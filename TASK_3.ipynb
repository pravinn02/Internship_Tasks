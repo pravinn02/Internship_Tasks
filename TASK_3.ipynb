{
 "cells": [
  {
   "cell_type": "markdown",
   "id": "3fe731c5-dfd0-4bce-b332-23e15e6eba3e",
   "metadata": {},
   "source": [
    "# Section 1: if, if-else, if-elif-else"
   ]
  },
  {
   "cell_type": "markdown",
   "id": "e5c4a94e-c261-4b09-9baa-06d2378edc21",
   "metadata": {},
   "source": [
    "##### Q1. Write a Python program to check if a number is positive using if statement."
   ]
  },
  {
   "cell_type": "code",
   "execution_count": 58,
   "id": "40348b3b-95fa-4446-9fc7-235538bd9bff",
   "metadata": {},
   "outputs": [
    {
     "name": "stdin",
     "output_type": "stream",
     "text": [
      "Enter Number : 0\n"
     ]
    }
   ],
   "source": [
    "number = int(input(\"Enter Number :\"))\n",
    "if number > 0:\n",
    "    print(\"Number is Positive\")"
   ]
  },
  {
   "cell_type": "markdown",
   "id": "e38a953a-9c52-4b0d-b7b5-b9e2afd15045",
   "metadata": {},
   "source": [
    "##### Q.2 Write a program to check whether a person is eligible to vote using if-else."
   ]
  },
  {
   "cell_type": "code",
   "execution_count": 40,
   "id": "f7156038-bec0-43bf-a27a-b88acb895f71",
   "metadata": {},
   "outputs": [
    {
     "name": "stdin",
     "output_type": "stream",
     "text": [
      "Enter Age: 18\n"
     ]
    },
    {
     "name": "stdout",
     "output_type": "stream",
     "text": [
      "person is eligible to vote\n"
     ]
    }
   ],
   "source": [
    "age = int(input(\"Enter Age:\"))\n",
    "if age >= 18:\n",
    "    print(\"person is eligible to vote\")\n",
    "else:\n",
    "    print(\"person is not eligible for vote\")"
   ]
  },
  {
   "cell_type": "markdown",
   "id": "2436f0d2-9816-49be-ad3b-dfdf9d54d23a",
   "metadata": {},
   "source": [
    "##### Q3. Check whether a number is positive, negative, or zero using if-elif-else."
   ]
  },
  {
   "cell_type": "code",
   "execution_count": 44,
   "id": "03a04116-b4ae-43b5-968b-04b661442575",
   "metadata": {},
   "outputs": [
    {
     "name": "stdin",
     "output_type": "stream",
     "text": [
      "Enter Number: 11.3\n"
     ]
    },
    {
     "name": "stdout",
     "output_type": "stream",
     "text": [
      "Number is Positive\n"
     ]
    }
   ],
   "source": [
    "number = float(input(\"Enter Number:\"))\n",
    "if number > 0:\n",
    "    print(\"Number is Positive\")\n",
    "elif number < 0:\n",
    "    print(\"Number is Negative\")\n",
    "else:\n",
    "    print(\"Number is Zero\")\n",
    "    "
   ]
  },
  {
   "cell_type": "markdown",
   "id": "bd3e8e12-ac44-4d15-8ceb-26a0a9dce169",
   "metadata": {},
   "source": [
    "##### Q.4 Take input marks and print \"Pass\" if marks >= 35, otherwise \"Fail\"."
   ]
  },
  {
   "cell_type": "code",
   "execution_count": 53,
   "id": "97fa0615-40c4-4319-9cff-aadc55df71f8",
   "metadata": {},
   "outputs": [
    {
     "name": "stdin",
     "output_type": "stream",
     "text": [
      "Enter Marks: 34\n"
     ]
    },
    {
     "name": "stdout",
     "output_type": "stream",
     "text": [
      "Student is Fail\n"
     ]
    }
   ],
   "source": [
    "marks = float(input(\"Enter Marks:\"))\n",
    "if marks >= 35:\n",
    "    print(\"Student is Pass\")\n",
    "else:\n",
    "    print(\"Student is Fail\")"
   ]
  },
  {
   "cell_type": "markdown",
   "id": "d0094daa-6e3d-4826-be5c-e3d48dd11914",
   "metadata": {},
   "source": [
    "##### Q.5 Write a program that takes a number and checks:\n",
    "\n",
    "If divisible by 3 → print \"Divisible by 3\"\n",
    "\n",
    "Else if divisible by 5 → print \"Divisible by 5\"\n",
    "\n",
    "Else → print \"Not divisible by 3 or 5\"\n"
   ]
  },
  {
   "cell_type": "code",
   "execution_count": 66,
   "id": "2936d154-8ea1-41e1-9fc0-cba3a6605c56",
   "metadata": {},
   "outputs": [
    {
     "name": "stdin",
     "output_type": "stream",
     "text": [
      "Enter Number: 30\n"
     ]
    },
    {
     "name": "stdout",
     "output_type": "stream",
     "text": [
      "Number is divisible by 3\n"
     ]
    }
   ],
   "source": [
    "number = int(input(\"Enter Number:\"))\n",
    "if number % 3 == 0:\n",
    "    print(\"Number is divisible by 3\")\n",
    "elif number % 5 ==0:\n",
    "    print(\"Number is divisible by 5\")\n",
    "else:\n",
    "    print(\"Number is not divisible by 3 or 5\")   "
   ]
  },
  {
   "cell_type": "markdown",
   "id": "1b5e1ab3-a2b3-4169-bead-7c205dd41e06",
   "metadata": {},
   "source": [
    "## own questions"
   ]
  },
  {
   "cell_type": "code",
   "execution_count": 80,
   "id": "73c9877e-a284-4358-aff4-e514ea76382b",
   "metadata": {},
   "outputs": [
    {
     "name": "stdin",
     "output_type": "stream",
     "text": [
      "Enter a number:  11\n"
     ]
    },
    {
     "name": "stdout",
     "output_type": "stream",
     "text": [
      "The number is greater than 10.\n"
     ]
    }
   ],
   "source": [
    "# 1. Check if number is greater than 10\n",
    "num = int(input(\"Enter a number: \"))\n",
    "\n",
    "if num > 10:\n",
    "    print(\"The number is greater than 10.\")\n"
   ]
  },
  {
   "cell_type": "code",
   "execution_count": 72,
   "id": "478f0cf9-25ff-44de-a3c1-d690f5ce132f",
   "metadata": {},
   "outputs": [
    {
     "name": "stdin",
     "output_type": "stream",
     "text": [
      "Enter a year:  2100\n"
     ]
    },
    {
     "name": "stdout",
     "output_type": "stream",
     "text": [
      "It is a century year.\n"
     ]
    }
   ],
   "source": [
    "# 2. Check if a year is a century year\n",
    "year = int(input(\"Enter a year: \"))\n",
    "if year % 100 == 0:\n",
    "    print(\"It is a century year.\")\n",
    "else:\n",
    "    print(\"It is not a century year.\")"
   ]
  },
  {
   "cell_type": "code",
   "execution_count": 84,
   "id": "c5a40ac2-10bb-4e09-ac33-db82f3945524",
   "metadata": {},
   "outputs": [
    {
     "name": "stdin",
     "output_type": "stream",
     "text": [
      "Enter Number:  3\n"
     ]
    },
    {
     "name": "stdout",
     "output_type": "stream",
     "text": [
      "Number is Odd\n"
     ]
    }
   ],
   "source": [
    "# 3. Check if number is even or odd\n",
    "number = int(input(\"Enter Number: \"))\n",
    "if number % 2 == 0:\n",
    "    print(\"Number is Even \")\n",
    "else:\n",
    "    print(\"Number is Odd\")"
   ]
  },
  {
   "cell_type": "code",
   "execution_count": 87,
   "id": "b50ecc7c-3ce0-4e7d-97a8-e5c0104a3ae0",
   "metadata": {},
   "outputs": [
    {
     "name": "stdin",
     "output_type": "stream",
     "text": [
      "Enter your marks:  80\n"
     ]
    },
    {
     "name": "stdout",
     "output_type": "stream",
     "text": [
      "Grade B\n"
     ]
    }
   ],
   "source": [
    "# 4.Check grade based on marks \n",
    "marks = int(input(\"Enter your marks: \"))\n",
    "if marks >= 90:\n",
    "    print(\"Grade A\")\n",
    "elif marks >= 75:\n",
    "    print(\"Grade B\")\n",
    "elif marks >= 60:\n",
    "    print(\"Grade C\")\n",
    "elif marks >= 35:\n",
    "    print(\"Grade D\")\n",
    "else:\n",
    "    print(\"Fail\")"
   ]
  },
  {
   "cell_type": "code",
   "execution_count": 91,
   "id": "829c0b2f-5c4c-4c93-94ca-984afc9bcd0d",
   "metadata": {},
   "outputs": [
    {
     "name": "stdin",
     "output_type": "stream",
     "text": [
      "Enter your name:  Pravin\n"
     ]
    },
    {
     "name": "stdout",
     "output_type": "stream",
     "text": [
      "Hello, Pravin!\n"
     ]
    }
   ],
   "source": [
    "# 5.Print \"Hello\" if name is \"Pravin\"\n",
    "name = input(\"Enter your name:\")\n",
    "if name == \"Pravin\":\n",
    "    print(\"Hello Pravin\")"
   ]
  },
  {
   "cell_type": "code",
   "execution_count": null,
   "id": "48a7bf01-7c3a-4837-bc5b-f6189cfffc9d",
   "metadata": {},
   "outputs": [],
   "source": []
  },
  {
   "cell_type": "markdown",
   "id": "5e68eac8-3448-45f3-bc5b-e1ed0d382d0a",
   "metadata": {},
   "source": [
    "#  Section 2: for Loop"
   ]
  },
  {
   "cell_type": "markdown",
   "id": "7164c25e-f733-44a1-89ad-895cf73aaf8b",
   "metadata": {},
   "source": [
    "##### Q1. Print numbers from 1 to 10 using a for loop."
   ]
  },
  {
   "cell_type": "code",
   "execution_count": 107,
   "id": "8a17bb2f-fcdc-45c0-bfa2-37020db98f7c",
   "metadata": {},
   "outputs": [
    {
     "name": "stdout",
     "output_type": "stream",
     "text": [
      "1\n",
      "2\n",
      "3\n",
      "4\n",
      "5\n",
      "6\n",
      "7\n",
      "8\n",
      "9\n",
      "10\n"
     ]
    }
   ],
   "source": [
    "for i in range(1, 11):\n",
    "    print(i)"
   ]
  },
  {
   "cell_type": "markdown",
   "id": "47cc5b28-1c67-4eab-ac20-ad7d1c028d82",
   "metadata": {},
   "source": [
    "##### Q2. Print all even numbers from 1 to 50 using for."
   ]
  },
  {
   "cell_type": "code",
   "execution_count": 109,
   "id": "2213b124-440e-4292-bf26-fae271926181",
   "metadata": {},
   "outputs": [
    {
     "name": "stdout",
     "output_type": "stream",
     "text": [
      "2\n",
      "4\n",
      "6\n",
      "8\n",
      "10\n",
      "12\n",
      "14\n",
      "16\n",
      "18\n",
      "20\n",
      "22\n",
      "24\n",
      "26\n",
      "28\n",
      "30\n",
      "32\n",
      "34\n",
      "36\n",
      "38\n",
      "40\n",
      "42\n",
      "44\n",
      "46\n",
      "48\n",
      "50\n"
     ]
    }
   ],
   "source": [
    "for i in range(1,51):\n",
    "    if i % 2 == 0:\n",
    "        print(i)"
   ]
  },
  {
   "cell_type": "markdown",
   "id": "01a4a69b-9980-4077-8f45-d63db4a1356b",
   "metadata": {},
   "source": [
    "##### Q3. Print the multiplication table of a given number."
   ]
  },
  {
   "cell_type": "code",
   "execution_count": 3,
   "id": "46633e29-3936-4491-95eb-1d1745a89c61",
   "metadata": {},
   "outputs": [
    {
     "name": "stdin",
     "output_type": "stream",
     "text": [
      "Enter a number:  9\n"
     ]
    },
    {
     "name": "stdout",
     "output_type": "stream",
     "text": [
      "Multiplication Table:\n",
      "9\n",
      "18\n",
      "27\n",
      "36\n",
      "45\n",
      "54\n",
      "63\n",
      "72\n",
      "81\n",
      "90\n"
     ]
    }
   ],
   "source": [
    "number = int(input(\"Enter a number: \"))\n",
    "print(\"Multiplication Table:\")\n",
    "for i in range(1, 11):\n",
    "    print(number * i)"
   ]
  },
  {
   "cell_type": "markdown",
   "id": "46eca1ac-dfca-43de-b7bb-2815cbaa4bcf",
   "metadata": {},
   "source": [
    "##### Q4. Find the factorial of a number using a for loop."
   ]
  },
  {
   "cell_type": "code",
   "execution_count": 11,
   "id": "f5ea5bd2-a537-4788-91ca-b3738e8b99e0",
   "metadata": {},
   "outputs": [
    {
     "name": "stdin",
     "output_type": "stream",
     "text": [
      "Enter number: 9\n"
     ]
    },
    {
     "name": "stdout",
     "output_type": "stream",
     "text": [
      "Factorial of 9 is 362880\n"
     ]
    }
   ],
   "source": [
    "number = int(input(\"Enter number:\"))\n",
    "factorial = 1\n",
    "for i in range(1, number + 1):\n",
    "    factorial = factorial * i\n",
    "print(\"Factorial of\",number, \"is\", factorial)"
   ]
  },
  {
   "cell_type": "markdown",
   "id": "154c0d07-1ce5-4d8a-9d7f-b86e9719f084",
   "metadata": {},
   "source": [
    "##### Q5.Count how many vowels are in a given string."
   ]
  },
  {
   "cell_type": "code",
   "execution_count": 20,
   "id": "a4db87e8-e678-4a48-bf81-5ea88cbfd629",
   "metadata": {},
   "outputs": [
    {
     "name": "stdin",
     "output_type": "stream",
     "text": [
      "Enter a string:  aeiou\n"
     ]
    },
    {
     "name": "stdout",
     "output_type": "stream",
     "text": [
      "Number of vowels is: 5\n"
     ]
    }
   ],
   "source": [
    "text = input(\"Enter string: \")\n",
    "count = 0\n",
    "for letter in text:\n",
    "    if letter in \"aeiouAEIOU\":\n",
    "        count = count + 1\n",
    "print(\"Number of vowels is:\", count)"
   ]
  },
  {
   "cell_type": "markdown",
   "id": "b18ebca9-2d67-4488-a9c4-2c241f7372da",
   "metadata": {},
   "source": [
    "## own questions"
   ]
  },
  {
   "cell_type": "code",
   "execution_count": 24,
   "id": "95652563-46d4-4d15-ae1c-c6f59ef47679",
   "metadata": {},
   "outputs": [
    {
     "name": "stdout",
     "output_type": "stream",
     "text": [
      "1\n",
      "4\n",
      "9\n",
      "16\n",
      "25\n",
      "36\n",
      "49\n",
      "64\n",
      "81\n",
      "100\n"
     ]
    }
   ],
   "source": [
    "# 1. Squares of numbers\n",
    "for i in range(1, 11):\n",
    "    print(i**2)"
   ]
  },
  {
   "cell_type": "code",
   "execution_count": 26,
   "id": "197cad7a-29dd-400b-970b-5a35ce5a8473",
   "metadata": {},
   "outputs": [
    {
     "name": "stdout",
     "output_type": "stream",
     "text": [
      "Sum: 210\n"
     ]
    }
   ],
   "source": [
    "# 2. Sum of first 20 numbers\n",
    "total = 0\n",
    "for i in range(1, 21):\n",
    "    total += i\n",
    "print(\"Sum:\", total)"
   ]
  },
  {
   "cell_type": "code",
   "execution_count": 28,
   "id": "73e130f4-3e56-41d3-a870-c9dc82cbc2d4",
   "metadata": {},
   "outputs": [
    {
     "name": "stdout",
     "output_type": "stream",
     "text": [
      "20\n",
      "19\n",
      "18\n",
      "17\n",
      "16\n",
      "15\n",
      "14\n",
      "13\n",
      "12\n",
      "11\n",
      "10\n",
      "9\n",
      "8\n",
      "7\n",
      "6\n",
      "5\n",
      "4\n",
      "3\n",
      "2\n",
      "1\n"
     ]
    }
   ],
   "source": [
    "# 3. Reverse 20 to 1\n",
    "for i in range(20, 0, -1):\n",
    "    print(i)"
   ]
  },
  {
   "cell_type": "code",
   "execution_count": 30,
   "id": "377e94e6-df7d-4080-949c-72839bbd73c3",
   "metadata": {},
   "outputs": [
    {
     "name": "stdout",
     "output_type": "stream",
     "text": [
      "2\n",
      "3\n",
      "5\n",
      "7\n",
      "11\n",
      "13\n",
      "17\n",
      "19\n",
      "23\n",
      "29\n",
      "31\n",
      "37\n",
      "41\n",
      "43\n",
      "47\n"
     ]
    }
   ],
   "source": [
    "# 4. Prime numbers 1 to 50\n",
    "for num in range(2, 51):\n",
    "    for i in range(2, num):\n",
    "        if num % i == 0:\n",
    "            break\n",
    "    else:\n",
    "        print(num)"
   ]
  },
  {
   "cell_type": "code",
   "execution_count": 36,
   "id": "5189243c-1a12-4654-95f6-965de82f2d68",
   "metadata": {},
   "outputs": [
    {
     "name": "stdin",
     "output_type": "stream",
     "text": [
      "Enter a sentence:  how are yuo !\n"
     ]
    },
    {
     "name": "stdout",
     "output_type": "stream",
     "text": [
      "Word count: 4\n"
     ]
    }
   ],
   "source": [
    "# 5. Count words\n",
    "sentence = input(\"Enter a sentence: \")\n",
    "print(\"Word count:\", len(sentence.split()))"
   ]
  },
  {
   "cell_type": "markdown",
   "id": "61954be1-7bde-40e0-adc2-f3718882a56c",
   "metadata": {},
   "source": [
    "# Section 3: while Loop"
   ]
  },
  {
   "cell_type": "markdown",
   "id": "7884a787-51b1-4579-a12b-06cdd32821bd",
   "metadata": {},
   "source": [
    "##### Q1. Print numbers from 1 to 10 using a while loop."
   ]
  },
  {
   "cell_type": "code",
   "execution_count": 2,
   "id": "70cabc38-c78c-4e7b-9e97-33a0f98b4241",
   "metadata": {},
   "outputs": [
    {
     "name": "stdout",
     "output_type": "stream",
     "text": [
      "1\n",
      "2\n",
      "3\n",
      "4\n",
      "5\n",
      "6\n",
      "7\n",
      "8\n",
      "9\n",
      "10\n"
     ]
    }
   ],
   "source": [
    "i = 1\n",
    "while i <= 10:\n",
    "    print(i)\n",
    "    i = i + 1  "
   ]
  },
  {
   "cell_type": "markdown",
   "id": "7d2dc935-a8ee-45f9-a610-a5a0b5dbd159",
   "metadata": {},
   "source": [
    "##### Q2.Print the sum of numbers until the user enters 0."
   ]
  },
  {
   "cell_type": "code",
   "execution_count": 10,
   "id": "6416f778-4539-4555-b999-86837ba7f649",
   "metadata": {},
   "outputs": [
    {
     "name": "stdin",
     "output_type": "stream",
     "text": [
      "Enter number (0 to stop):  1\n",
      "Enter number (0 to stop):  3\n",
      "Enter number (0 to stop):  6\n",
      "Enter number (0 to stop):  0\n"
     ]
    },
    {
     "name": "stdout",
     "output_type": "stream",
     "text": [
      "Sum: 10\n"
     ]
    }
   ],
   "source": [
    "total = 0\n",
    "while True:\n",
    "    num = int(input(\"Enter number (0 to stop): \"))\n",
    "    if num == 0:\n",
    "        break\n",
    "    total += num\n",
    "print(\"Sum:\", total)"
   ]
  },
  {
   "cell_type": "markdown",
   "id": "08682a4b-5039-4ccd-8488-59514600863e",
   "metadata": {},
   "source": [
    "##### Q3.  Reverse a given number using while loop."
   ]
  },
  {
   "cell_type": "code",
   "execution_count": 17,
   "id": "edc9818f-1e22-492c-9ca2-297b4ac04448",
   "metadata": {},
   "outputs": [
    {
     "name": "stdin",
     "output_type": "stream",
     "text": [
      "Enter a number:  6078\n"
     ]
    },
    {
     "name": "stdout",
     "output_type": "stream",
     "text": [
      "Reversed number: 8706\n"
     ]
    }
   ],
   "source": [
    "num = int(input(\"Enter a number: \"))\n",
    "rev = 0\n",
    "while num > 0:\n",
    "    rev = rev * 10 + num % 10\n",
    "    num //= 10\n",
    "print(\"Reversed number:\", rev)"
   ]
  },
  {
   "cell_type": "markdown",
   "id": "c3cbc26e-388b-4252-8576-5165063c1c9b",
   "metadata": {},
   "source": [
    "##### Q4.Count digits of a number using while."
   ]
  },
  {
   "cell_type": "code",
   "execution_count": 21,
   "id": "b82286f8-2ce7-43ec-b775-2c694ee8f9c9",
   "metadata": {},
   "outputs": [
    {
     "name": "stdin",
     "output_type": "stream",
     "text": [
      "Enter a number:  2002\n"
     ]
    },
    {
     "name": "stdout",
     "output_type": "stream",
     "text": [
      "Number of digits: 4\n"
     ]
    }
   ],
   "source": [
    "num = int(input(\"Enter a number: \"))\n",
    "count = 0\n",
    "while num > 0:\n",
    "    num //= 10\n",
    "    count += 1\n",
    "print(\"Number of digits:\", count)"
   ]
  },
  {
   "cell_type": "markdown",
   "id": "74b4ead7-6c03-4a5d-84a8-31dadf96223e",
   "metadata": {},
   "source": [
    "##### Q5. Print Fibonacci series up to n terms using while."
   ]
  },
  {
   "cell_type": "code",
   "execution_count": 24,
   "id": "9b9bc316-759b-4fb6-9bb2-60741ab6c841",
   "metadata": {},
   "outputs": [
    {
     "name": "stdin",
     "output_type": "stream",
     "text": [
      "Enter number of terms:  7\n"
     ]
    },
    {
     "name": "stdout",
     "output_type": "stream",
     "text": [
      "0\n",
      "1\n",
      "1\n",
      "2\n",
      "3\n",
      "5\n",
      "8\n"
     ]
    }
   ],
   "source": [
    "n = int(input(\"Enter number of terms: \"))\n",
    "a, b = 0, 1\n",
    "count = 0\n",
    "while count < n:\n",
    "    print(a)\n",
    "    a, b = b, a + b\n",
    "    count += 1\n"
   ]
  },
  {
   "cell_type": "markdown",
   "id": "32c20d6c-1bd1-4144-9d2e-3de51510272b",
   "metadata": {},
   "source": [
    "## own questions"
   ]
  },
  {
   "cell_type": "code",
   "execution_count": 28,
   "id": "9b46df17-cbd0-44ff-8656-b1d3b7629d02",
   "metadata": {},
   "outputs": [
    {
     "name": "stdout",
     "output_type": "stream",
     "text": [
      "2\n",
      "4\n",
      "6\n",
      "8\n",
      "10\n",
      "12\n",
      "14\n",
      "16\n",
      "18\n",
      "20\n"
     ]
    }
   ],
   "source": [
    "# 1. Even numbers\n",
    "i = 2\n",
    "while i <= 20:\n",
    "    print(i)\n",
    "    i += 2"
   ]
  },
  {
   "cell_type": "code",
   "execution_count": 30,
   "id": "3e5013ff-be49-4f24-ad5b-6f37e0168446",
   "metadata": {},
   "outputs": [
    {
     "name": "stdin",
     "output_type": "stream",
     "text": [
      "Enter base:  8\n",
      "Enter exponent:  7\n"
     ]
    },
    {
     "name": "stdout",
     "output_type": "stream",
     "text": [
      "Result: 2097152\n"
     ]
    }
   ],
   "source": [
    "# 2. Power calculation\n",
    "base = int(input(\"Enter base: \"))\n",
    "exp = int(input(\"Enter exponent: \"))\n",
    "result = 1\n",
    "i = 0\n",
    "while i < exp:\n",
    "    result *= base\n",
    "    i += 1\n",
    "print(\"Result:\", result)"
   ]
  },
  {
   "cell_type": "code",
   "execution_count": 34,
   "id": "a5d6f59f-57d4-4393-8e92-90717afa685d",
   "metadata": {},
   "outputs": [
    {
     "name": "stdin",
     "output_type": "stream",
     "text": [
      "Enter a number:  78\n"
     ]
    },
    {
     "name": "stdout",
     "output_type": "stream",
     "text": [
      "Sum of digits: 15\n"
     ]
    }
   ],
   "source": [
    "# 3. Sum of digits\n",
    "num = int(input(\"Enter a number: \"))\n",
    "sum_digits = 0\n",
    "while num > 0:\n",
    "    sum_digits += num % 10\n",
    "    num //= 10\n",
    "print(\"Sum of digits:\", sum_digits)"
   ]
  },
  {
   "cell_type": "code",
   "execution_count": 38,
   "id": "7edb6f78-10cf-4efe-b90e-94b1199204e2",
   "metadata": {},
   "outputs": [
    {
     "name": "stdin",
     "output_type": "stream",
     "text": [
      "Enter a number:  121\n"
     ]
    },
    {
     "name": "stdout",
     "output_type": "stream",
     "text": [
      "Palindrome\n"
     ]
    }
   ],
   "source": [
    "# 4. Palindrome check\n",
    "num = int(input(\"Enter a number: \"))\n",
    "original = num\n",
    "rev = 0\n",
    "while num > 0:\n",
    "    rev = rev * 10 + num % 10\n",
    "    num //= 10\n",
    "if rev == original:\n",
    "    print(\"Palindrome\")\n",
    "else:\n",
    "    print(\"Not a palindrome\")"
   ]
  },
  {
   "cell_type": "code",
   "execution_count": 40,
   "id": "9f5f1272-361a-4d64-b393-32d2235f56f1",
   "metadata": {},
   "outputs": [
    {
     "name": "stdin",
     "output_type": "stream",
     "text": [
      "Enter text:  jfvdrfjgn\n"
     ]
    },
    {
     "name": "stdout",
     "output_type": "stream",
     "text": [
      "Length: 9\n"
     ]
    }
   ],
   "source": [
    "# 5. Count characters\n",
    "text = input(\"Enter text: \")\n",
    "i = 0\n",
    "count = 0\n",
    "while i < len(text):\n",
    "    count += 1\n",
    "    i += 1\n",
    "print(\"Length:\", count)"
   ]
  },
  {
   "cell_type": "markdown",
   "id": "1cc85c83-db86-4f15-a4eb-5b33a6a4d17e",
   "metadata": {},
   "source": [
    "# Section 4: Control Statements (break, continue, pass)"
   ]
  },
  {
   "cell_type": "markdown",
   "id": "5eff049d-5e5e-4630-9753-e460e38dc766",
   "metadata": {},
   "source": [
    "##### Q1. Print numbers 1 to 10, but stop if number is 5 (break)."
   ]
  },
  {
   "cell_type": "code",
   "execution_count": 46,
   "id": "f2745b3c-b913-429d-9903-2e4bf0ba2e26",
   "metadata": {},
   "outputs": [
    {
     "name": "stdout",
     "output_type": "stream",
     "text": [
      "1\n",
      "2\n",
      "3\n",
      "4\n"
     ]
    }
   ],
   "source": [
    "for i in range(1, 11):\n",
    "    if i == 5:\n",
    "        break\n",
    "    print(i)"
   ]
  },
  {
   "cell_type": "markdown",
   "id": "24f65de3-b481-4f90-b3bc-26654130a2bc",
   "metadata": {},
   "source": [
    "##### Q2. Print numbers 1 to 10, but skip 5 (continue)."
   ]
  },
  {
   "cell_type": "code",
   "execution_count": 50,
   "id": "3e957479-ad32-4fa4-832b-d8d729f38c22",
   "metadata": {},
   "outputs": [
    {
     "name": "stdout",
     "output_type": "stream",
     "text": [
      "1\n",
      "2\n",
      "3\n",
      "4\n",
      "6\n",
      "7\n",
      "8\n",
      "9\n",
      "10\n"
     ]
    }
   ],
   "source": [
    "for i in range(1, 11):\n",
    "    if i == 5:\n",
    "        continue\n",
    "    print(i)"
   ]
  },
  {
   "cell_type": "markdown",
   "id": "cba60691-9c56-4f0b-8e5f-3e5473c63646",
   "metadata": {},
   "source": [
    "##### Q3. Use pass statement inside a loop and explain its purpose."
   ]
  },
  {
   "cell_type": "code",
   "execution_count": 53,
   "id": "108cdbb3-cd25-4dc2-afdc-d1502196cd82",
   "metadata": {},
   "outputs": [
    {
     "name": "stdout",
     "output_type": "stream",
     "text": [
      "1\n",
      "2\n",
      "3\n",
      "4\n",
      "5\n"
     ]
    }
   ],
   "source": [
    "for i in range(1, 6):\n",
    "    if i == 3:\n",
    "        pass\n",
    "    print(i)"
   ]
  },
  {
   "cell_type": "markdown",
   "id": "447ef7ed-222d-4d70-ae8d-f44a9bf3f6e0",
   "metadata": {},
   "source": [
    "##### Q4. Search a number in a list. If found, print and break loop."
   ]
  },
  {
   "cell_type": "code",
   "execution_count": 58,
   "id": "ef2ca9d0-188c-4716-a35a-f62039d69a25",
   "metadata": {},
   "outputs": [
    {
     "name": "stdin",
     "output_type": "stream",
     "text": [
      "Enter number to search:  2\n"
     ]
    },
    {
     "name": "stdout",
     "output_type": "stream",
     "text": [
      "Found: 2\n"
     ]
    }
   ],
   "source": [
    "nums = [2, 4, 6, 8, 10]\n",
    "search = int(input(\"Enter number to search: \"))\n",
    "for num in nums:\n",
    "    if num == search:\n",
    "        print(\"Found:\", num)\n",
    "        break\n",
    "else:\n",
    "    print(\"Not found\")"
   ]
  },
  {
   "cell_type": "markdown",
   "id": "24262a25-ddb8-4457-9695-9ca5975762ec",
   "metadata": {},
   "source": [
    "##### Q5. Use continue to print only odd numbers from 1 to 20."
   ]
  },
  {
   "cell_type": "code",
   "execution_count": 61,
   "id": "ae09a27f-6840-4327-bd1d-0360979de7ca",
   "metadata": {},
   "outputs": [
    {
     "name": "stdout",
     "output_type": "stream",
     "text": [
      "1\n",
      "3\n",
      "5\n",
      "7\n",
      "9\n",
      "11\n",
      "13\n",
      "15\n",
      "17\n",
      "19\n"
     ]
    }
   ],
   "source": [
    "for i in range(1, 21):\n",
    "    if i % 2 == 0:\n",
    "        continue\n",
    "    print(i)"
   ]
  },
  {
   "cell_type": "markdown",
   "id": "739c3b12-a1d6-4860-a0ea-56a957faff82",
   "metadata": {},
   "source": [
    "## own questions"
   ]
  },
  {
   "cell_type": "code",
   "execution_count": 72,
   "id": "1ad0b359-1bd7-4ddd-91ec-db7530b245f0",
   "metadata": {},
   "outputs": [
    {
     "name": "stdout",
     "output_type": "stream",
     "text": [
      "3\n",
      "6\n",
      "9\n",
      "12\n",
      "15\n"
     ]
    }
   ],
   "source": [
    "count = 0\n",
    "for i in range(1, 50):\n",
    "    if i % 3 == 0:\n",
    "        print(i)\n",
    "        count += 1\n",
    "    if count == 5: \n",
    "        break"
   ]
  },
  {
   "cell_type": "code",
   "execution_count": 74,
   "id": "e29cfd04-fa90-4a6d-a690-cfab8c0fe96b",
   "metadata": {},
   "outputs": [
    {
     "name": "stdin",
     "output_type": "stream",
     "text": [
      "Enter a string:  pravin\n"
     ]
    },
    {
     "name": "stdout",
     "output_type": "stream",
     "text": [
      "prvn"
     ]
    }
   ],
   "source": [
    "# 2. Skip vowels\n",
    "text = input(\"Enter a string: \")\n",
    "for ch in text:\n",
    "    if ch in 'aeiouAEIOU':\n",
    "        continue\n",
    "    print(ch, end='')"
   ]
  },
  {
   "cell_type": "code",
   "execution_count": 78,
   "id": "592c0719-c34e-4a5c-8613-10595ac0b967",
   "metadata": {},
   "outputs": [
    {
     "name": "stdin",
     "output_type": "stream",
     "text": [
      "Enter choice (A/B):  A\n"
     ]
    },
    {
     "name": "stdout",
     "output_type": "stream",
     "text": [
      "You chose A\n"
     ]
    }
   ],
   "source": [
    "# 3. Invalid option\n",
    "choice = input(\"Enter choice (A/B): \")\n",
    "if choice == 'A':\n",
    "    print(\"You chose A\")\n",
    "elif choice == 'B':\n",
    "    print(\"You chose B\")\n",
    "else:\n",
    "    pass"
   ]
  },
  {
   "cell_type": "code",
   "execution_count": 80,
   "id": "d4c7ce13-dc85-4ca3-8b91-2341dcd6da80",
   "metadata": {},
   "outputs": [
    {
     "name": "stdout",
     "output_type": "stream",
     "text": [
      "Sum exceeded 50 at: 10\n"
     ]
    }
   ],
   "source": [
    "# 4. Stop when sum > 50\n",
    "sum = 0\n",
    "for i in range(1, 100):\n",
    "    sum += i\n",
    "    if sum > 50:\n",
    "        print(\"Sum exceeded 50 at:\", i)\n",
    "        break"
   ]
  },
  {
   "cell_type": "code",
   "execution_count": 82,
   "id": "847248fa-4d33-4578-bffb-38912fd50819",
   "metadata": {},
   "outputs": [
    {
     "name": "stdout",
     "output_type": "stream",
     "text": [
      "1\n",
      "2\n",
      "3\n",
      "4\n",
      "5\n",
      "6\n",
      "8\n",
      "9\n",
      "10\n",
      "11\n",
      "12\n",
      "13\n",
      "15\n",
      "16\n",
      "17\n",
      "18\n",
      "19\n",
      "20\n"
     ]
    }
   ],
   "source": [
    "# 5. Skip multiples of 7\n",
    "for i in range(1, 21):\n",
    "    if i % 7 == 0:\n",
    "        continue\n",
    "    print(i)"
   ]
  },
  {
   "cell_type": "code",
   "execution_count": null,
   "id": "6d76db27-5e56-4e57-83bc-3e9f49a6c54c",
   "metadata": {},
   "outputs": [],
   "source": []
  }
 ],
 "metadata": {
  "kernelspec": {
   "display_name": "Python [conda env:base] *",
   "language": "python",
   "name": "conda-base-py"
  },
  "language_info": {
   "codemirror_mode": {
    "name": "ipython",
    "version": 3
   },
   "file_extension": ".py",
   "mimetype": "text/x-python",
   "name": "python",
   "nbconvert_exporter": "python",
   "pygments_lexer": "ipython3",
   "version": "3.12.3"
  }
 },
 "nbformat": 4,
 "nbformat_minor": 5
}
