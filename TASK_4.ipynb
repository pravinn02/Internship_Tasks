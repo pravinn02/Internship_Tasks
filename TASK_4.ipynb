{
 "cells": [
  {
   "cell_type": "markdown",
   "id": "941467c1-1460-4ea0-a943-e5ca5648d977",
   "metadata": {},
   "source": [
    "# A. User-Defined Function"
   ]
  },
  {
   "cell_type": "code",
   "execution_count": 213,
   "id": "4b50f04f-cd27-42e5-bb5d-ba06eec9813d",
   "metadata": {},
   "outputs": [],
   "source": [
    "#1. Write a function that takes a list of numbers and returns the list of their squares.\n",
    "def square(number):\n",
    "    return[x**2 for x in number]"
   ]
  },
  {
   "cell_type": "code",
   "execution_count": 215,
   "id": "2ae7636f-0b9d-451e-a964-4c7ec95a279a",
   "metadata": {},
   "outputs": [
    {
     "name": "stdout",
     "output_type": "stream",
     "text": [
      "[1, 4, 9, 16, 25]\n"
     ]
    }
   ],
   "source": [
    "print(square([1,2,3,4,5]))"
   ]
  },
  {
   "cell_type": "code",
   "execution_count": 217,
   "id": "0c1d7472-ddf5-4f85-9973-ef84d1fbb30a",
   "metadata": {},
   "outputs": [],
   "source": [
    "#2. Create a function that takes a string and counts the number of vowels\n",
    "def vowels(string):\n",
    "    return sum(1 for char in string.lower() if char in \"aeiou\")\n",
    "    "
   ]
  },
  {
   "cell_type": "code",
   "execution_count": 219,
   "id": "3d5d3045-3f2e-4460-a3aa-4f2f3580bf13",
   "metadata": {},
   "outputs": [
    {
     "name": "stdout",
     "output_type": "stream",
     "text": [
      "2\n"
     ]
    }
   ],
   "source": [
    "print(vowels(\"Hii\"))"
   ]
  },
  {
   "cell_type": "code",
   "execution_count": 221,
   "id": "e4afdbbd-b7ef-40cf-9aa8-c76152906e3f",
   "metadata": {},
   "outputs": [],
   "source": [
    "#3. Define a function that accepts a number and returns True if it’s an Armstrong number.\n",
    "def is_armstrong(number):\n",
    "    digits=[int(d) for d in str(number)]\n",
    "    return sum(d**len(digits) for d in digits)==number"
   ]
  },
  {
   "cell_type": "code",
   "execution_count": 223,
   "id": "9a410a2d-9d58-43d9-8e78-724f0c349e69",
   "metadata": {},
   "outputs": [
    {
     "name": "stdout",
     "output_type": "stream",
     "text": [
      "True\n"
     ]
    }
   ],
   "source": [
    "print(is_armstrong(153))"
   ]
  },
  {
   "cell_type": "code",
   "execution_count": 225,
   "id": "59ef076a-fc55-462e-aeb7-4f7e0e8582bb",
   "metadata": {},
   "outputs": [
    {
     "name": "stdout",
     "output_type": "stream",
     "text": [
      "True\n"
     ]
    }
   ],
   "source": [
    "print(is_armstrong(1634))"
   ]
  },
  {
   "cell_type": "code",
   "execution_count": 227,
   "id": "0c0935c4-cc94-4a86-a4ea-f7cdd748205e",
   "metadata": {},
   "outputs": [],
   "source": [
    "#4. Write a function that accepts a list of names and returns names that start with the letter ‘S’.\n",
    "def s(names):\n",
    "    return [name for name in names if name.startswith('S')]"
   ]
  },
  {
   "cell_type": "code",
   "execution_count": 229,
   "id": "6b6a3c78-35a6-4973-978f-69d931130a7e",
   "metadata": {},
   "outputs": [
    {
     "name": "stdout",
     "output_type": "stream",
     "text": [
      "['Sita']\n"
     ]
    }
   ],
   "source": [
    "print(s(['Sita','Ram']))"
   ]
  },
  {
   "cell_type": "code",
   "execution_count": 231,
   "id": "9490cce9-f668-47ab-afad-ee855ce6bfc5",
   "metadata": {},
   "outputs": [],
   "source": [
    "#5. Create a function that accepts two numbers and returns their HCF (Highest Common Factor).\n",
    "def HCF(x,y):\n",
    "    while y:\n",
    "        x,y = y,x%y\n",
    "    return x"
   ]
  },
  {
   "cell_type": "code",
   "execution_count": 232,
   "id": "778a2ca0-3d17-4eef-819e-11f5590403e7",
   "metadata": {},
   "outputs": [
    {
     "name": "stdout",
     "output_type": "stream",
     "text": [
      "The HCF of 36 and 60 is 12\n"
     ]
    }
   ],
   "source": [
    "num1=36\n",
    "num2=60\n",
    "print(\"The HCF of\", num1, \"and\", num2, \"is\", HCF(num1, num2))\n"
   ]
  },
  {
   "cell_type": "markdown",
   "id": "be51ed89-7bc0-4bd2-acd3-190f44d823c2",
   "metadata": {},
   "source": [
    "# B. Lambda Function "
   ]
  },
  {
   "cell_type": "code",
   "execution_count": 234,
   "id": "e3a0892a-ffca-41c5-b9d3-3b11656a2d94",
   "metadata": {},
   "outputs": [],
   "source": [
    "# 1.Write a lambda function to check if a number is divisible by 5.\n",
    "is_divisible_by_5=lambda x: x%5==0"
   ]
  },
  {
   "cell_type": "code",
   "execution_count": 235,
   "id": "1973503e-7d82-4396-a03e-9dd4b1a651e2",
   "metadata": {},
   "outputs": [
    {
     "name": "stdout",
     "output_type": "stream",
     "text": [
      "True\n",
      "False\n"
     ]
    }
   ],
   "source": [
    "print(is_divisible_by_5(10))\n",
    "print(is_divisible_by_5(16))"
   ]
  },
  {
   "cell_type": "code",
   "execution_count": 236,
   "id": "04f3a3ea-3aca-451d-af8f-cf79f231024f",
   "metadata": {},
   "outputs": [],
   "source": [
    "# 2.Use a lambda to convert temperature from Celsius to Fahrenheit.\n",
    "celsius_to_fahrenheit=lambda c:(c * 9/5) + 32"
   ]
  },
  {
   "cell_type": "code",
   "execution_count": 237,
   "id": "c45efd6d-ee83-45e4-9fb9-b781c741c487",
   "metadata": {},
   "outputs": [
    {
     "name": "stdout",
     "output_type": "stream",
     "text": [
      "95.0\n"
     ]
    }
   ],
   "source": [
    "print(celsius_to_fahrenheit(35))"
   ]
  },
  {
   "cell_type": "code",
   "execution_count": 238,
   "id": "68836dca-2f25-46fa-a653-a2e6c5ce36b7",
   "metadata": {},
   "outputs": [],
   "source": [
    "# 3.Create a lambda function that returns the cube of a number.\n",
    "cube=lambda c: c**3"
   ]
  },
  {
   "cell_type": "code",
   "execution_count": 239,
   "id": "115a9996-4fc9-434a-b94c-7d3f0ff9e8e6",
   "metadata": {},
   "outputs": [
    {
     "name": "stdout",
     "output_type": "stream",
     "text": [
      "27\n"
     ]
    }
   ],
   "source": [
    "print(cube(3))"
   ]
  },
  {
   "cell_type": "code",
   "execution_count": 240,
   "id": "b9b6502f-aa3f-4951-8adc-5f427fae6500",
   "metadata": {},
   "outputs": [],
   "source": [
    "# 4.Write a lambda function to add of two strings.\n",
    "add_strings=lambda string1,string2: string1 + string2"
   ]
  },
  {
   "cell_type": "code",
   "execution_count": 241,
   "id": "bf67da1d-dbb2-4e54-a4e4-0731d5628af9",
   "metadata": {},
   "outputs": [
    {
     "name": "stdout",
     "output_type": "stream",
     "text": [
      "PravinLandage\n"
     ]
    }
   ],
   "source": [
    "print(add_strings(\"Pravin\",\"Landage\"))"
   ]
  },
  {
   "cell_type": "code",
   "execution_count": 242,
   "id": "6031137b-e4a2-4318-aa72-27bd85090e27",
   "metadata": {},
   "outputs": [],
   "source": [
    "# 5.Use a lambda to check if the length of a string is greater than 8\n",
    "str_len=lambda s: len(s)>8"
   ]
  },
  {
   "cell_type": "code",
   "execution_count": 243,
   "id": "e43df357-7fc5-4654-952a-e028be2b8fc3",
   "metadata": {},
   "outputs": [
    {
     "name": "stdout",
     "output_type": "stream",
     "text": [
      "True\n"
     ]
    }
   ],
   "source": [
    "print(str_len(\"Pravinnn!\"))"
   ]
  },
  {
   "cell_type": "markdown",
   "id": "238a98c8-40cd-45a4-9d04-9fd442daf5b2",
   "metadata": {},
   "source": [
    "# C. Filter Function "
   ]
  },
  {
   "cell_type": "code",
   "execution_count": 245,
   "id": "262f2927-0a31-4e3d-8068-ba1b7e9ffce7",
   "metadata": {},
   "outputs": [
    {
     "name": "stdout",
     "output_type": "stream",
     "text": [
      "['pravin']\n"
     ]
    }
   ],
   "source": [
    "# 1.Use filter() to get all strings with length greater than 4 from a list.\n",
    "strings=[\"a\",\"ab\",\"abc\",\"abcd\",\"pravin\"]\n",
    "long_strings=list(filter(lambda s:len(s)>4,strings))\n",
    "print(long_strings)"
   ]
  },
  {
   "cell_type": "code",
   "execution_count": 246,
   "id": "7eb87d5a-7612-4628-b177-82d69f6b018e",
   "metadata": {},
   "outputs": [
    {
     "name": "stdout",
     "output_type": "stream",
     "text": [
      "[200, 101]\n"
     ]
    }
   ],
   "source": [
    "# 2.Use filter() to extract numbers greater than 100 from a list\n",
    "numbers=[10,200,30,40,50,101]\n",
    "long_numbers=list(filter(lambda n:n>100,numbers))\n",
    "print(long_numbers)"
   ]
  },
  {
   "cell_type": "code",
   "execution_count": 247,
   "id": "00480b4d-c988-425c-9578-0847b7122c13",
   "metadata": {},
   "outputs": [
    {
     "name": "stdout",
     "output_type": "stream",
     "text": [
      "[1, 3, 5, 7, 9, 13, 15, 17]\n"
     ]
    }
   ],
   "source": [
    "# 3.Write a program to filter all odd numbers from a list using a lambda.\n",
    "numbers=[1,2,3,4,5,6,7,8,9,10,13,15,17,20]\n",
    "odd_numbers=list(filter(lambda n: n%2 !=0,numbers))\n",
    "print(odd_numbers)"
   ]
  },
  {
   "cell_type": "code",
   "execution_count": 248,
   "id": "d46e3802-1a0d-476b-828f-871414c2e930",
   "metadata": {},
   "outputs": [
    {
     "name": "stdout",
     "output_type": "stream",
     "text": [
      "['Maharashtra', 'India', 'America']\n"
     ]
    }
   ],
   "source": [
    "# 4.Use filter() to find names that end with the letter ‘a’.\n",
    "names=[\"Maharashtra\",\"India\",\"America\",\"Itly\"]\n",
    "end_with_a=list(filter(lambda name: name.endswith('a'),names))\n",
    "print(end_with_a)"
   ]
  },
  {
   "cell_type": "code",
   "execution_count": 249,
   "id": "2e0c542a-8c52-4223-8cc9-631eea28cc68",
   "metadata": {},
   "outputs": [
    {
     "data": {
      "text/plain": [
       "[18, 2002]"
      ]
     },
     "execution_count": 249,
     "metadata": {},
     "output_type": "execute_result"
    }
   ],
   "source": [
    "# 5.Filter out all elements that are not integers from a mixed list.\n",
    "List=[18,\"December\",2002,\"pravin\"]\n",
    "only_integers=list(filter(lambda x:isinstance(x, int), List))\n",
    "only_integers"
   ]
  },
  {
   "cell_type": "markdown",
   "id": "df54f23a-8c2b-44b0-ab8e-1cdcd73cf538",
   "metadata": {},
   "source": [
    "## D. Format Function"
   ]
  },
  {
   "cell_type": "code",
   "execution_count": 251,
   "id": "6c72f37a-81dc-4944-a7d4-66a2bb66ce1e",
   "metadata": {},
   "outputs": [
    {
     "name": "stdout",
     "output_type": "stream",
     "text": [
      "Student Pravin scored 35 marks in Computer\n"
     ]
    }
   ],
   "source": [
    "# 1.Format and print: \"Student {name} scored {marks} marks in {subject}\".\n",
    "name=\"Pravin\"\n",
    "marks=35\n",
    "subject=\"Computer\"\n",
    "print(\"Student {name} scored {marks} marks in {subject}\".format(name=name,marks=marks,subject=subject))"
   ]
  },
  {
   "cell_type": "markdown",
   "id": "c84b00a9-51c1-4617-a43c-52abe484a556",
   "metadata": {},
   "source": [
    "# E. Map Function"
   ]
  },
  {
   "cell_type": "code",
   "execution_count": 253,
   "id": "140d1f50-ea17-4100-8788-9c9be0f914d4",
   "metadata": {},
   "outputs": [
    {
     "name": "stdout",
     "output_type": "stream",
     "text": [
      "[1, 4, 9, 16]\n"
     ]
    }
   ],
   "source": [
    "# 1.Use map() to convert a list of integers into their squares.\n",
    "numbers=[1, 2, 3, 4]\n",
    "squares=list(map(lambda x: x**2,numbers))\n",
    "print(squares)"
   ]
  },
  {
   "cell_type": "code",
   "execution_count": 254,
   "id": "b81c31aa-55c4-4653-a4b9-18b046fc1df6",
   "metadata": {},
   "outputs": [
    {
     "name": "stdout",
     "output_type": "stream",
     "text": [
      "['HELLO', 'WORLD']\n"
     ]
    }
   ],
   "source": [
    "# 2.Apply map() to convert a list of strings to uppercase.\n",
    "words=[\"Hello\",\"world\"]\n",
    "upper_words=list(map(str.upper,words))\n",
    "print(upper_words)"
   ]
  },
  {
   "cell_type": "code",
   "execution_count": 255,
   "id": "e4a9dbef-9160-4a00-b733-b35e6181d568",
   "metadata": {},
   "outputs": [
    {
     "data": {
      "text/plain": [
       "[0, 2, 4, 6, 8]"
      ]
     },
     "execution_count": 255,
     "metadata": {},
     "output_type": "execute_result"
    }
   ],
   "source": [
    "# 3.Use map() with lambda to subtract 2 from every number in a list.\n",
    "numbers=[2,4,6,8,10]\n",
    "sub_2=list(map(lambda x: x-2,numbers))\n",
    "sub_2"
   ]
  },
  {
   "cell_type": "code",
   "execution_count": 256,
   "id": "0ffbf25e-560a-443e-82d5-b39ab504f401",
   "metadata": {},
   "outputs": [
    {
     "name": "stdout",
     "output_type": "stream",
     "text": [
      "[6, 2, 7]\n"
     ]
    }
   ],
   "source": [
    "# 4.Use map() to get the length of each word in a sentence.\n",
    "sentence=\"Python is amazing\"\n",
    "lengths=list(map(len,sentence.split()))\n",
    "print(lengths)"
   ]
  },
  {
   "cell_type": "code",
   "execution_count": 307,
   "id": "54b969ab-a200-437b-8def-6a99d75c1c5b",
   "metadata": {},
   "outputs": [
    {
     "name": "stdout",
     "output_type": "stream",
     "text": [
      "[0, 4, 12, 24]\n"
     ]
    }
   ],
   "source": [
    "# 5.Apply map() to multiply each element of a list by its index.\n",
    "numbers=[2, 4, 6, 8]\n",
    "result=list(map(lambda x: x[0] * x[1],enumerate(numbers)))\n",
    "print(result)"
   ]
  },
  {
   "cell_type": "code",
   "execution_count": null,
   "id": "e153fb89-70f9-4c1c-9796-9cccd1995974",
   "metadata": {},
   "outputs": [],
   "source": []
  },
  {
   "cell_type": "code",
   "execution_count": null,
   "id": "04616af4-c088-4028-a1ad-c21a152abff4",
   "metadata": {},
   "outputs": [],
   "source": []
  },
  {
   "cell_type": "code",
   "execution_count": null,
   "id": "d216385e-dfa3-4f41-87f1-644a5fc7ac56",
   "metadata": {},
   "outputs": [],
   "source": []
  },
  {
   "cell_type": "code",
   "execution_count": null,
   "id": "4b6e648a-2467-47b9-b079-b2e8e1de6dc1",
   "metadata": {},
   "outputs": [],
   "source": []
  },
  {
   "cell_type": "code",
   "execution_count": null,
   "id": "4aad0926-c2a1-443e-8e0a-68ea26a0f728",
   "metadata": {},
   "outputs": [],
   "source": []
  },
  {
   "cell_type": "code",
   "execution_count": null,
   "id": "560b5bd5-e0f6-4509-a971-7819f59d25d9",
   "metadata": {},
   "outputs": [],
   "source": []
  },
  {
   "cell_type": "code",
   "execution_count": null,
   "id": "9292848d-8462-4c5c-a74e-9a9f59c24bc8",
   "metadata": {},
   "outputs": [],
   "source": []
  },
  {
   "cell_type": "code",
   "execution_count": null,
   "id": "eb9546fe-e31b-4ec2-8614-bc1dd27bd88e",
   "metadata": {},
   "outputs": [],
   "source": []
  },
  {
   "cell_type": "code",
   "execution_count": null,
   "id": "1861e201-900c-4282-8b7e-5b4d4bfcbbb0",
   "metadata": {},
   "outputs": [],
   "source": []
  },
  {
   "cell_type": "code",
   "execution_count": null,
   "id": "75c0409b-1e86-49f8-9e2d-49fffb6bc66c",
   "metadata": {},
   "outputs": [],
   "source": []
  },
  {
   "cell_type": "code",
   "execution_count": null,
   "id": "d9344b3c-94fe-47ec-9a56-92ef1b3bd147",
   "metadata": {},
   "outputs": [],
   "source": []
  },
  {
   "cell_type": "code",
   "execution_count": null,
   "id": "1111bcb0-49fb-4445-8cdc-6ab17eb063cb",
   "metadata": {},
   "outputs": [],
   "source": []
  },
  {
   "cell_type": "code",
   "execution_count": null,
   "id": "9d033f0e-9a5c-4e4f-ae15-03d4d7d5a39a",
   "metadata": {},
   "outputs": [],
   "source": []
  },
  {
   "cell_type": "code",
   "execution_count": null,
   "id": "f5023b2d-db7c-4949-97ac-d72c0f0f4f89",
   "metadata": {},
   "outputs": [],
   "source": []
  },
  {
   "cell_type": "code",
   "execution_count": null,
   "id": "d69d9524-2265-40dc-8e81-51c100cb02a1",
   "metadata": {},
   "outputs": [],
   "source": []
  },
  {
   "cell_type": "code",
   "execution_count": null,
   "id": "300b3eaa-9169-4bd5-b162-49d1cb9f4b96",
   "metadata": {},
   "outputs": [],
   "source": []
  },
  {
   "cell_type": "code",
   "execution_count": null,
   "id": "cd5a17df-8a3e-4d70-98b1-f23cceedf383",
   "metadata": {},
   "outputs": [],
   "source": []
  },
  {
   "cell_type": "code",
   "execution_count": null,
   "id": "7cb3e9e9-7474-427a-978d-f50cd014fdda",
   "metadata": {},
   "outputs": [],
   "source": []
  },
  {
   "cell_type": "code",
   "execution_count": null,
   "id": "230c30d8-43af-456b-8826-5aaff86866cd",
   "metadata": {},
   "outputs": [],
   "source": []
  },
  {
   "cell_type": "code",
   "execution_count": null,
   "id": "e07d7712-da7c-44af-bcf9-f77a5c45a4cd",
   "metadata": {},
   "outputs": [],
   "source": []
  },
  {
   "cell_type": "code",
   "execution_count": null,
   "id": "c5c9daef-a921-45a3-b872-0b98ec2af741",
   "metadata": {},
   "outputs": [],
   "source": []
  },
  {
   "cell_type": "code",
   "execution_count": null,
   "id": "f7b06541-14cb-4b3f-bcf2-4be0d2986fe4",
   "metadata": {},
   "outputs": [],
   "source": []
  },
  {
   "cell_type": "code",
   "execution_count": null,
   "id": "1db7331c-d5c8-40be-98b3-452ca305ac0e",
   "metadata": {},
   "outputs": [],
   "source": []
  },
  {
   "cell_type": "code",
   "execution_count": null,
   "id": "d38b660c-8893-4b1b-b66c-571ad7522e34",
   "metadata": {},
   "outputs": [],
   "source": []
  },
  {
   "cell_type": "code",
   "execution_count": null,
   "id": "6800b3d8-7cfe-416e-8e62-4ac8fdd8897a",
   "metadata": {},
   "outputs": [],
   "source": []
  },
  {
   "cell_type": "code",
   "execution_count": null,
   "id": "d14f7082-ba33-458a-a469-740c246d4e8a",
   "metadata": {},
   "outputs": [],
   "source": []
  },
  {
   "cell_type": "code",
   "execution_count": null,
   "id": "ffdef41d-c48a-4b7c-be84-d4585ba30c21",
   "metadata": {},
   "outputs": [],
   "source": []
  }
 ],
 "metadata": {
  "kernelspec": {
   "display_name": "Python [conda env:base] *",
   "language": "python",
   "name": "conda-base-py"
  },
  "language_info": {
   "codemirror_mode": {
    "name": "ipython",
    "version": 3
   },
   "file_extension": ".py",
   "mimetype": "text/x-python",
   "name": "python",
   "nbconvert_exporter": "python",
   "pygments_lexer": "ipython3",
   "version": "3.12.3"
  }
 },
 "nbformat": 4,
 "nbformat_minor": 5
}
