{
 "cells": [
  {
   "cell_type": "markdown",
   "id": "11aebce8-4240-4ba0-938b-740340c78093",
   "metadata": {},
   "source": [
    "## Data types-Key Concepts and Methods"
   ]
  },
  {
   "cell_type": "code",
   "execution_count": null,
   "id": "474f879f-9bc7-45be-8874-3c7d6eb20732",
   "metadata": {},
   "outputs": [],
   "source": [
    "# Numbers in Python represent numerical values and are used for mathematical operations, calculations, and data processing.\n",
    "# Python supports three main types of numbers: integers (int), floating-point numbers (float), and complex numbers (complex)."
   ]
  },
  {
   "cell_type": "markdown",
   "id": "b63f6e96-0e35-4e9b-ab34-04f4e008b37c",
   "metadata": {},
   "source": [
    "## Definition"
   ]
  },
  {
   "cell_type": "code",
   "execution_count": 9,
   "id": "227f77b0-4fc1-48dd-8330-b9a9d6d1cc18",
   "metadata": {},
   "outputs": [],
   "source": [
    "##Integer (int): Whole numbers without a fractional part (e.g., 5, -3, 0).\n",
    "##Float (float): Numbers with a decimal point or in exponential notation (e.g., 3.14, -0.001, 2e3).\n",
    "##Complex (complex): Numbers with a real and imaginary part, written as a + bj (e.g., 3 + 4j).\n"
   ]
  },
  {
   "cell_type": "markdown",
   "id": "43c1f582-9a3e-45f5-853b-57d09751777f",
   "metadata": {},
   "source": [
    "## Key Points"
   ]
  },
  {
   "cell_type": "code",
   "execution_count": 14,
   "id": "fb2df3d7-f84f-4e09-b333-6a65ff8543cb",
   "metadata": {},
   "outputs": [],
   "source": [
    "\n",
    "## Numbers are *immutable*; operations create new objects.\n",
    "## No size limit for int in Python (limited by memory).\n",
    "## float has precision limitations (IEEE 754 standard).\n",
    "## Complex numbers use j for the imaginary unit.\n",
    "## Numbers support arithmetic operations (+, -, *, /, **, etc.).\n",
    "## Indexing is *not applicable* as numbers are scalar values.\n"
   ]
  },
  {
   "cell_type": "markdown",
   "id": "724b185e-7ac3-4797-aab5-d9e88d6153c2",
   "metadata": {},
   "source": [
    "## common Method/ Functions"
   ]
  },
  {
   "cell_type": "code",
   "execution_count": null,
   "id": "00cc8555-72c4-42e0-9a82-4d9dd235e93c",
   "metadata": {},
   "outputs": [],
   "source": [
    "## Arithmetic: +, -, *, /, // (floor division), % (modulus), ** (exponent).\n",
    "## Built-in functions: abs(), round(), int(), float(), complex().\n",
    "## Complex number attributes: .real, .imag, .conjugate()"
   ]
  },
  {
   "cell_type": "markdown",
   "id": "7ebd619c-6d0a-42df-a744-5397b25a7471",
   "metadata": {},
   "source": [
    "## Example"
   ]
  },
  {
   "cell_type": "markdown",
   "id": "0cecaa0a-79f6-4717-a447-74f514ae670d",
   "metadata": {},
   "source": [
    "## Integer"
   ]
  },
  {
   "cell_type": "code",
   "execution_count": 27,
   "id": "d9aec475-5421-4079-95b3-2a5011890f47",
   "metadata": {},
   "outputs": [],
   "source": [
    "age=25"
   ]
  },
  {
   "cell_type": "code",
   "execution_count": 29,
   "id": "198f945f-bbd4-4bb4-a930-d154d0d7c65c",
   "metadata": {},
   "outputs": [
    {
     "data": {
      "text/plain": [
       "25"
      ]
     },
     "execution_count": 29,
     "metadata": {},
     "output_type": "execute_result"
    }
   ],
   "source": [
    "age"
   ]
  },
  {
   "cell_type": "code",
   "execution_count": 31,
   "id": "055c7367-175b-4024-a357-e490c7c1bf16",
   "metadata": {},
   "outputs": [
    {
     "data": {
      "text/plain": [
       "int"
      ]
     },
     "execution_count": 31,
     "metadata": {},
     "output_type": "execute_result"
    }
   ],
   "source": [
    "type(age)"
   ]
  },
  {
   "cell_type": "code",
   "execution_count": 33,
   "id": "839d8e14-70bd-4ce6-9b85-0d7f3324342a",
   "metadata": {},
   "outputs": [],
   "source": [
    "count=-100"
   ]
  },
  {
   "cell_type": "code",
   "execution_count": 35,
   "id": "341861ed-5afa-4523-be07-a919ed201411",
   "metadata": {},
   "outputs": [
    {
     "data": {
      "text/plain": [
       "-100"
      ]
     },
     "execution_count": 35,
     "metadata": {},
     "output_type": "execute_result"
    }
   ],
   "source": [
    "count"
   ]
  },
  {
   "cell_type": "code",
   "execution_count": 37,
   "id": "07262234-484c-4565-9b39-552019e851d9",
   "metadata": {},
   "outputs": [
    {
     "data": {
      "text/plain": [
       "int"
      ]
     },
     "execution_count": 37,
     "metadata": {},
     "output_type": "execute_result"
    }
   ],
   "source": [
    "type(count)"
   ]
  },
  {
   "cell_type": "markdown",
   "id": "4b1fe900-2d36-4f1c-ae30-48b0b97781d9",
   "metadata": {},
   "source": [
    "## Float"
   ]
  },
  {
   "cell_type": "code",
   "execution_count": 40,
   "id": "1529208f-e498-47cd-a185-5a4645bece80",
   "metadata": {},
   "outputs": [],
   "source": [
    "hight=5.11"
   ]
  },
  {
   "cell_type": "code",
   "execution_count": 42,
   "id": "a2679086-beaa-4162-8f41-4fd359725487",
   "metadata": {},
   "outputs": [
    {
     "data": {
      "text/plain": [
       "5.11"
      ]
     },
     "execution_count": 42,
     "metadata": {},
     "output_type": "execute_result"
    }
   ],
   "source": [
    "hight"
   ]
  },
  {
   "cell_type": "code",
   "execution_count": 44,
   "id": "62313bc8-f125-4293-ab69-0850a6db3790",
   "metadata": {},
   "outputs": [
    {
     "data": {
      "text/plain": [
       "float"
      ]
     },
     "execution_count": 44,
     "metadata": {},
     "output_type": "execute_result"
    }
   ],
   "source": [
    "type(hight)"
   ]
  },
  {
   "cell_type": "code",
   "execution_count": 46,
   "id": "e0dbb2cf-8fa4-4a2b-a6c7-77ecc3299061",
   "metadata": {},
   "outputs": [],
   "source": [
    "temperature=-2.5"
   ]
  },
  {
   "cell_type": "code",
   "execution_count": 48,
   "id": "890b7f7d-fb74-4719-97d3-c84c9ed61616",
   "metadata": {},
   "outputs": [
    {
     "data": {
      "text/plain": [
       "-2.5"
      ]
     },
     "execution_count": 48,
     "metadata": {},
     "output_type": "execute_result"
    }
   ],
   "source": [
    "temperature"
   ]
  },
  {
   "cell_type": "code",
   "execution_count": 50,
   "id": "6f878c04-b340-400e-a86f-a8a4dc23ec34",
   "metadata": {},
   "outputs": [
    {
     "data": {
      "text/plain": [
       "float"
      ]
     },
     "execution_count": 50,
     "metadata": {},
     "output_type": "execute_result"
    }
   ],
   "source": [
    "type(temperature)"
   ]
  },
  {
   "cell_type": "markdown",
   "id": "abfd2820-3be1-4060-83bf-280e20f156f0",
   "metadata": {},
   "source": [
    "## Complex"
   ]
  },
  {
   "cell_type": "code",
   "execution_count": 53,
   "id": "ecc746bb-28cc-42a2-bcf3-b0f7129ec0fc",
   "metadata": {},
   "outputs": [],
   "source": [
    "a=3+4j"
   ]
  },
  {
   "cell_type": "code",
   "execution_count": 55,
   "id": "63978ceb-18fd-4f0b-8c1a-89236ea1da0d",
   "metadata": {},
   "outputs": [
    {
     "data": {
      "text/plain": [
       "(3+4j)"
      ]
     },
     "execution_count": 55,
     "metadata": {},
     "output_type": "execute_result"
    }
   ],
   "source": [
    "a"
   ]
  },
  {
   "cell_type": "code",
   "execution_count": 57,
   "id": "d090a7be-2d25-4782-9e75-bed1f2b5b2b8",
   "metadata": {},
   "outputs": [
    {
     "data": {
      "text/plain": [
       "complex"
      ]
     },
     "execution_count": 57,
     "metadata": {},
     "output_type": "execute_result"
    }
   ],
   "source": [
    "type(a)"
   ]
  },
  {
   "cell_type": "code",
   "execution_count": 59,
   "id": "4c627960-c159-4b76-b690-276becf5f224",
   "metadata": {},
   "outputs": [],
   "source": [
    "b=-2j"
   ]
  },
  {
   "cell_type": "code",
   "execution_count": 61,
   "id": "718c34e7-d145-4125-b2ec-1576c8321018",
   "metadata": {},
   "outputs": [
    {
     "data": {
      "text/plain": [
       "(-0-2j)"
      ]
     },
     "execution_count": 61,
     "metadata": {},
     "output_type": "execute_result"
    }
   ],
   "source": [
    "b"
   ]
  },
  {
   "cell_type": "code",
   "execution_count": 63,
   "id": "d5f1e3c7-9294-4595-8466-0bc8ed915cce",
   "metadata": {},
   "outputs": [
    {
     "data": {
      "text/plain": [
       "complex"
      ]
     },
     "execution_count": 63,
     "metadata": {},
     "output_type": "execute_result"
    }
   ],
   "source": [
    "type(b)"
   ]
  },
  {
   "cell_type": "code",
   "execution_count": null,
   "id": "08c1ad20-019b-4461-bbda-a0152d895736",
   "metadata": {},
   "outputs": [],
   "source": []
  }
 ],
 "metadata": {
  "kernelspec": {
   "display_name": "Python [conda env:base] *",
   "language": "python",
   "name": "conda-base-py"
  },
  "language_info": {
   "codemirror_mode": {
    "name": "ipython",
    "version": 3
   },
   "file_extension": ".py",
   "mimetype": "text/x-python",
   "name": "python",
   "nbconvert_exporter": "python",
   "pygments_lexer": "ipython3",
   "version": "3.12.7"
  }
 },
 "nbformat": 4,
 "nbformat_minor": 5
}
