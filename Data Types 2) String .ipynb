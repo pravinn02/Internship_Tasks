{
 "cells": [
  {
   "cell_type": "markdown",
   "id": "dcbfee49-9de9-45eb-9311-15026ced26ae",
   "metadata": {},
   "source": [
    "## Data Types - Key Concepts & Methods"
   ]
  },
  {
   "cell_type": "markdown",
   "id": "3e7deba9-4d79-4948-9070-754670ea2230",
   "metadata": {},
   "source": [
    "### String"
   ]
  },
  {
   "cell_type": "markdown",
   "id": "87842e45-3a07-45d6-bd40-1665629ece4e",
   "metadata": {},
   "source": [
    "#### Definition: \n",
    "A string is a sequence of characters (letters, numbers, or symbols) enclosed in single (') or double (\") quotes."
   ]
  },
  {
   "cell_type": "markdown",
   "id": "cbb02060-8fe4-4848-aefe-229a3eb12dd4",
   "metadata": {},
   "source": [
    "####  Key Points:\n",
    "\n",
    "Strings are immutable (cannot be changed after creation).\n",
    "Used to store text data like names, messages, etc.\n",
    "\n",
    "Can include special characters using escape sequences (e.g., \\n for newline)."
   ]
  },
  {
   "cell_type": "markdown",
   "id": "63272068-3794-470f-b771-a94d1678b101",
   "metadata": {},
   "source": [
    "#### Indexing:\n",
    "\n",
    "Strings are indexed starting from 0 (first character).\n",
    "Negative indexing starts from -1 (last character).\n",
    "\n",
    "Example: For \"hello\", h is at index 0, o is at index 4 or -1."
   ]
  },
  {
   "cell_type": "markdown",
   "id": "d48f7ab0-36da-4dc9-8b2a-35ff18c29966",
   "metadata": {},
   "source": [
    "#### Common Methods/Functions:\n",
    "\n",
    "len(): Returns the length of the string.\n",
    "\n",
    "str.upper(), str.lower(): Converts to uppercase/lowercase.\n",
    "\n",
    "str.strip(): Removes leading/trailing whitespace.\n",
    "\n",
    "str.replace(old, new): Replaces a substring.\n",
    "\n",
    "str.split(): Splits string into a list based on a delimiter.\n",
    "\n",
    "str.join(): Joins a list of strings into one string."
   ]
  },
  {
   "cell_type": "markdown",
   "id": "818fb42d-4a31-486d-9600-55423abb2ca4",
   "metadata": {},
   "source": [
    "#### Example"
   ]
  },
  {
   "cell_type": "code",
   "execution_count": 66,
   "id": "9820719d-62db-4476-9400-4b53f41aa1a7",
   "metadata": {},
   "outputs": [],
   "source": [
    "name='Aniket'"
   ]
  },
  {
   "cell_type": "code",
   "execution_count": 67,
   "id": "40d6712a-7478-451f-926f-bb34c1a8254c",
   "metadata": {},
   "outputs": [
    {
     "data": {
      "text/plain": [
       "'Aniket'"
      ]
     },
     "execution_count": 67,
     "metadata": {},
     "output_type": "execute_result"
    }
   ],
   "source": [
    "name"
   ]
  },
  {
   "cell_type": "code",
   "execution_count": 68,
   "id": "36245690-57d0-49aa-b3fa-86fca7285f0a",
   "metadata": {},
   "outputs": [
    {
     "data": {
      "text/plain": [
       "str"
      ]
     },
     "execution_count": 68,
     "metadata": {},
     "output_type": "execute_result"
    }
   ],
   "source": [
    "type(name)"
   ]
  },
  {
   "cell_type": "code",
   "execution_count": 69,
   "id": "7840037b-c05f-4f66-92a0-39e34ca95411",
   "metadata": {},
   "outputs": [],
   "source": [
    "age=21"
   ]
  },
  {
   "cell_type": "code",
   "execution_count": 70,
   "id": "582af262-a5c4-49de-857b-6c57b5d9e742",
   "metadata": {},
   "outputs": [
    {
     "data": {
      "text/plain": [
       "21"
      ]
     },
     "execution_count": 70,
     "metadata": {},
     "output_type": "execute_result"
    }
   ],
   "source": [
    "age"
   ]
  },
  {
   "cell_type": "code",
   "execution_count": 71,
   "id": "a3f4c3d1-9129-420c-8115-800e15fa1775",
   "metadata": {},
   "outputs": [
    {
     "name": "stdout",
     "output_type": "stream",
     "text": [
      "Aniket is 21 years old\n"
     ]
    }
   ],
   "source": [
    "print(f\"{name} is {age} years old\")"
   ]
  },
  {
   "cell_type": "code",
   "execution_count": 72,
   "id": "07d57eca-6cbf-4a9c-adf0-1f984428fb64",
   "metadata": {},
   "outputs": [
    {
     "name": "stdout",
     "output_type": "stream",
     "text": [
      "Aniket is 21 years old\n"
     ]
    }
   ],
   "source": [
    "print(f'{name} is {age} years old')"
   ]
  },
  {
   "cell_type": "code",
   "execution_count": null,
   "id": "5cb31788-7337-4d2b-a926-b0ebfd281876",
   "metadata": {},
   "outputs": [],
   "source": []
  }
 ],
 "metadata": {
  "kernelspec": {
   "display_name": "Python [conda env:base] *",
   "language": "python",
   "name": "conda-base-py"
  },
  "language_info": {
   "codemirror_mode": {
    "name": "ipython",
    "version": 3
   },
   "file_extension": ".py",
   "mimetype": "text/x-python",
   "name": "python",
   "nbconvert_exporter": "python",
   "pygments_lexer": "ipython3",
   "version": "3.12.3"
  }
 },
 "nbformat": 4,
 "nbformat_minor": 5
}
