{
 "cells": [
  {
   "cell_type": "markdown",
   "id": "030cb6a8-a706-457f-8983-f53783dbc61d",
   "metadata": {},
   "source": [
    "## Data Types- Key Concepts and  Methods"
   ]
  },
  {
   "cell_type": "markdown",
   "id": "32bb46c5-1879-4fdb-9196-36721c659f39",
   "metadata": {},
   "source": [
    "### Tuple"
   ]
  },
  {
   "cell_type": "markdown",
   "id": "620e547d-03a1-4062-a716-dc5162cac4da",
   "metadata": {},
   "source": [
    "#### Definition: \n",
    "A tuple is an ordered, immutable collection of items enclosed in parentheses ()."
   ]
  },
  {
   "cell_type": "markdown",
   "id": "8ca18202-cffe-4fbc-9e08-937dada260b3",
   "metadata": {},
   "source": [
    "#### Key Points:\n",
    "\n",
    "Tuples are immutable (cannot be changed after creation).\n",
    "\n",
    "Faster than lists due to immutability.\n",
    "    \n",
    "Used when data should remain constant (e.g., coordinates)."
   ]
  },
  {
   "cell_type": "markdown",
   "id": "6ed67668-c5f7-4c0a-8d0e-d62505b6feda",
   "metadata": {},
   "source": [
    "#### Indexing:\n",
    "\n",
    "Same as lists: starts at 0, negative indexing from -1.\n",
    "\n",
    "Example: For (1, 2, 3), 1 is at index 0, 3 is at index 2 or -1."
   ]
  },
  {
   "cell_type": "markdown",
   "id": "e9cfc882-b31b-43ff-aa02-1175b548dd77",
   "metadata": {},
   "source": [
    "#### Common Methods/Functions:\n",
    "\n",
    "len(): Returns the number of items.\n",
    "\n",
    "tuple.count(item): Counts occurrences of an item.\n",
    "\n",
    "tuple.index(item): Returns the index of the first occurrence of an item.\n"
   ]
  },
  {
   "cell_type": "markdown",
   "id": "1bf20653-f28c-4faa-bcf3-1d1bad0f1f58",
   "metadata": {},
   "source": [
    "#### Example"
   ]
  },
  {
   "cell_type": "code",
   "execution_count": 33,
   "id": "4cb94900-3756-4cf7-aa70-c44a29a98413",
   "metadata": {},
   "outputs": [
    {
     "data": {
      "text/plain": [
       "(10, 20, 30)"
      ]
     },
     "execution_count": 33,
     "metadata": {},
     "output_type": "execute_result"
    }
   ],
   "source": [
    "A = (10, 20, 30)\n",
    "A"
   ]
  },
  {
   "cell_type": "code",
   "execution_count": 35,
   "id": "378a57dc-3e50-426e-8ef4-426451419834",
   "metadata": {},
   "outputs": [
    {
     "name": "stdout",
     "output_type": "stream",
     "text": [
      "10\n"
     ]
    }
   ],
   "source": [
    "print(A[0]) "
   ]
  },
  {
   "cell_type": "code",
   "execution_count": 37,
   "id": "37abeb43-550d-4d4f-93eb-d9577e70ff08",
   "metadata": {},
   "outputs": [
    {
     "name": "stdout",
     "output_type": "stream",
     "text": [
      "30\n"
     ]
    }
   ],
   "source": [
    "print(A[-1])  "
   ]
  },
  {
   "cell_type": "code",
   "execution_count": 23,
   "id": "1b6f7294-2113-4b5b-a038-2a057a49d4a5",
   "metadata": {},
   "outputs": [
    {
     "name": "stdout",
     "output_type": "stream",
     "text": [
      "3\n"
     ]
    }
   ],
   "source": [
    "print(len(coords)) \n"
   ]
  },
  {
   "cell_type": "code",
   "execution_count": 25,
   "id": "ecc916f6-d433-4ec1-b87a-b864dda7801a",
   "metadata": {},
   "outputs": [
    {
     "name": "stdout",
     "output_type": "stream",
     "text": [
      "1\n"
     ]
    }
   ],
   "source": [
    "print(coords.count(20)) "
   ]
  },
  {
   "cell_type": "code",
   "execution_count": 27,
   "id": "0c616ed5-b214-4b3b-8d7b-8e99e3073030",
   "metadata": {},
   "outputs": [
    {
     "name": "stdout",
     "output_type": "stream",
     "text": [
      "2\n"
     ]
    }
   ],
   "source": [
    "print(coords.index(30))  "
   ]
  },
  {
   "cell_type": "code",
   "execution_count": null,
   "id": "b2cfd067-61c4-4f6e-ba06-4f1d858fde83",
   "metadata": {},
   "outputs": [],
   "source": []
  }
 ],
 "metadata": {
  "kernelspec": {
   "display_name": "Python [conda env:base] *",
   "language": "python",
   "name": "conda-base-py"
  },
  "language_info": {
   "codemirror_mode": {
    "name": "ipython",
    "version": 3
   },
   "file_extension": ".py",
   "mimetype": "text/x-python",
   "name": "python",
   "nbconvert_exporter": "python",
   "pygments_lexer": "ipython3",
   "version": "3.12.7"
  }
 },
 "nbformat": 4,
 "nbformat_minor": 5
}
