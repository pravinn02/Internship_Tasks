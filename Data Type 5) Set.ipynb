{
 "cells": [
  {
   "cell_type": "markdown",
   "id": "c5891469-c2f2-4621-adcd-ba82ffc08635",
   "metadata": {},
   "source": [
    "## Data Types- Key Concepts and Methods"
   ]
  },
  {
   "cell_type": "markdown",
   "id": "5f5ae233-ce38-4090-8812-b307668e4744",
   "metadata": {},
   "source": [
    "### Set"
   ]
  },
  {
   "cell_type": "markdown",
   "id": "7802c53b-854a-47e9-b8e7-e05a2b3e0396",
   "metadata": {},
   "source": [
    "#### Definition:\n",
    "A set is an unordered, mutable collection of unique items enclosed in curly braces {}."
   ]
  },
  {
   "cell_type": "markdown",
   "id": "d61c6de0-0f9f-477c-a701-f1d629e0b349",
   "metadata": {},
   "source": [
    "#### Key Points:\n",
    "\n",
    "Sets do not allow duplicates.\n",
    "\n",
    "Unordered, so no indexing.\n",
    "\n",
    "Used for operations like finding unique items or set operations (union, intersection)."
   ]
  },
  {
   "cell_type": "markdown",
   "id": "86d88cea-f002-4728-b866-d4f3a22a2ea7",
   "metadata": {},
   "source": [
    "##### Common Methods/Functions:\n",
    "\n",
    "set.add(item): Adds an item.\n",
    "    \n",
    "set.remove(item): Removes an item (raises error if not found).\n",
    "\n",
    "set.discard(item): Removes an item (no error if not found).\n",
    "\n",
    "set.union(set2): Combines two sets.\n",
    "\n",
    "set.intersection(set2): Returns common items.\n",
    "\n",
    "len(): Returns the number of items.\n"
   ]
  },
  {
   "cell_type": "markdown",
   "id": "af41b27f-e70c-47bf-8227-b88023422934",
   "metadata": {},
   "source": [
    "#### Example"
   ]
  },
  {
   "cell_type": "code",
   "execution_count": 46,
   "id": "1c02645e-8337-4067-9e20-470ef90014f8",
   "metadata": {},
   "outputs": [
    {
     "data": {
      "text/plain": [
       "{1, 2, 3}"
      ]
     },
     "execution_count": 46,
     "metadata": {},
     "output_type": "execute_result"
    }
   ],
   "source": [
    "numbers = {1, 2, 2, 3}  \n",
    "numbers"
   ]
  },
  {
   "cell_type": "code",
   "execution_count": 48,
   "id": "1fb6b909-5081-4c62-8606-5edd40ea6aeb",
   "metadata": {},
   "outputs": [
    {
     "name": "stdout",
     "output_type": "stream",
     "text": [
      "{1, 2, 3}\n"
     ]
    }
   ],
   "source": [
    "print(numbers)"
   ]
  },
  {
   "cell_type": "code",
   "execution_count": 50,
   "id": "ae4baeb9-1fdf-4d75-80fb-c6733a6142fc",
   "metadata": {},
   "outputs": [
    {
     "name": "stdout",
     "output_type": "stream",
     "text": [
      "{1, 2, 3, 4}\n"
     ]
    }
   ],
   "source": [
    "numbers.add(4)\n",
    "print(numbers)"
   ]
  },
  {
   "cell_type": "code",
   "execution_count": 52,
   "id": "48284cf0-57d0-477d-96ed-41924b139d75",
   "metadata": {},
   "outputs": [
    {
     "name": "stdout",
     "output_type": "stream",
     "text": [
      "{1, 3, 4}\n"
     ]
    }
   ],
   "source": [
    "numbers.discard(2) \n",
    "print(numbers)"
   ]
  },
  {
   "cell_type": "code",
   "execution_count": 54,
   "id": "0bb4cc25-4a55-4ada-8034-568b499c7bde",
   "metadata": {},
   "outputs": [
    {
     "name": "stdout",
     "output_type": "stream",
     "text": [
      "{1, 3, 4, 5}\n"
     ]
    }
   ],
   "source": [
    "set2 = {3, 4, 5}\n",
    "print(numbers.union(set2)) "
   ]
  }
 ],
 "metadata": {
  "kernelspec": {
   "display_name": "Python [conda env:base] *",
   "language": "python",
   "name": "conda-base-py"
  },
  "language_info": {
   "codemirror_mode": {
    "name": "ipython",
    "version": 3
   },
   "file_extension": ".py",
   "mimetype": "text/x-python",
   "name": "python",
   "nbconvert_exporter": "python",
   "pygments_lexer": "ipython3",
   "version": "3.12.7"
  }
 },
 "nbformat": 4,
 "nbformat_minor": 5
}
