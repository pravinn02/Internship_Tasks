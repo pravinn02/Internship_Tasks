{
 "cells": [
  {
   "cell_type": "markdown",
   "id": "52854031-7187-4d4a-9285-f7a1f0adf1a0",
   "metadata": {},
   "source": [
    "# Numpy Library"
   ]
  },
  {
   "cell_type": "code",
   "execution_count": 5,
   "id": "be1c26fe-a599-4801-9e25-a1686d71ad75",
   "metadata": {},
   "outputs": [
    {
     "name": "stdout",
     "output_type": "stream",
     "text": [
      "Requirement already satisfied: numpy in c:\\users\\admin\\anaconda3\\lib\\site-packages (1.26.4)\n"
     ]
    }
   ],
   "source": [
    "#Library Installation\n",
    "!pip install numpy"
   ]
  },
  {
   "cell_type": "code",
   "execution_count": 8,
   "id": "018c7906-0bc2-4e51-aff6-ff6cdc679cad",
   "metadata": {},
   "outputs": [],
   "source": [
    "# Importing Library\n",
    "# Import numpy with alias:\n",
    "import numpy as np"
   ]
  },
  {
   "cell_type": "markdown",
   "id": "9e6c9fb1-686a-48b4-ad41-dc10a1033ea9",
   "metadata": {},
   "source": [
    "## 1. Array Creation"
   ]
  },
  {
   "cell_type": "code",
   "execution_count": 115,
   "id": "d665f941-e128-4e76-b04d-e97da59f18bc",
   "metadata": {},
   "outputs": [
    {
     "data": {
      "text/plain": [
       "array([1, 2, 3])"
      ]
     },
     "execution_count": 115,
     "metadata": {},
     "output_type": "execute_result"
    }
   ],
   "source": [
    "# 1 Dimensional Array\n",
    "arr1=np.array([1,2,3])\n",
    "arr1"
   ]
  },
  {
   "cell_type": "code",
   "execution_count": 48,
   "id": "d1b3fc98-49ab-4cb9-af08-6560e1cd6e21",
   "metadata": {},
   "outputs": [
    {
     "data": {
      "text/plain": [
       "(3,)"
      ]
     },
     "execution_count": 48,
     "metadata": {},
     "output_type": "execute_result"
    }
   ],
   "source": [
    "arr1.shape"
   ]
  },
  {
   "cell_type": "code",
   "execution_count": 50,
   "id": "80573b2f-e00c-4ee9-8264-827a874e7f63",
   "metadata": {},
   "outputs": [
    {
     "data": {
      "text/plain": [
       "array([[[1, 2, 3],\n",
       "        [4, 5, 6]],\n",
       "\n",
       "       [[1, 5, 6],\n",
       "        [2, 3, 7]],\n",
       "\n",
       "       [[7, 8, 9],\n",
       "        [9, 8, 6]],\n",
       "\n",
       "       [[1, 0, 0],\n",
       "        [2, 4, 0]]])"
      ]
     },
     "execution_count": 50,
     "metadata": {},
     "output_type": "execute_result"
    }
   ],
   "source": [
    "# Multidimensional Array\n",
    "arr2=np.array([\n",
    "    [[1,2,3],[4,5,6]],\n",
    "    [[1,5,6],[2,3,7]],\n",
    "    [[7,8,9],[9,8,6]],\n",
    "    [[1,0,0],[2,4,0]]\n",
    "])\n",
    "arr2"
   ]
  },
  {
   "cell_type": "code",
   "execution_count": 52,
   "id": "f714b25d-c962-4432-8ef6-7152321e3149",
   "metadata": {},
   "outputs": [
    {
     "data": {
      "text/plain": [
       "(4, 2, 3)"
      ]
     },
     "execution_count": 52,
     "metadata": {},
     "output_type": "execute_result"
    }
   ],
   "source": [
    "arr2.shape"
   ]
  },
  {
   "cell_type": "markdown",
   "id": "c9b88792-d300-45d9-b62c-b2368a8d6ffb",
   "metadata": {},
   "source": [
    "## 2. Array Creation(Built-in-Methods)"
   ]
  },
  {
   "cell_type": "code",
   "execution_count": 66,
   "id": "4c32d158-b3d3-4b88-bd62-e5aad7309bcb",
   "metadata": {},
   "outputs": [
    {
     "data": {
      "text/plain": [
       "array([[0., 0., 0., 0., 0.],\n",
       "       [0., 0., 0., 0., 0.],\n",
       "       [0., 0., 0., 0., 0.],\n",
       "       [0., 0., 0., 0., 0.]])"
      ]
     },
     "execution_count": 66,
     "metadata": {},
     "output_type": "execute_result"
    }
   ],
   "source": [
    "# Array of all zeros\n",
    "np.zeros((4,5))"
   ]
  },
  {
   "cell_type": "code",
   "execution_count": 68,
   "id": "a4c818cc-a85b-497a-aa33-e94987392ad5",
   "metadata": {},
   "outputs": [
    {
     "data": {
      "text/plain": [
       "array([[1., 1., 1., 1.],\n",
       "       [1., 1., 1., 1.],\n",
       "       [1., 1., 1., 1.]])"
      ]
     },
     "execution_count": 68,
     "metadata": {},
     "output_type": "execute_result"
    }
   ],
   "source": [
    "# Array of all ones\n",
    "np.ones((3,4))"
   ]
  },
  {
   "cell_type": "code",
   "execution_count": 82,
   "id": "61750f12-0438-456e-9858-d5fede4dd4dd",
   "metadata": {},
   "outputs": [
    {
     "data": {
      "text/plain": [
       "array([ 0,  2,  4,  6,  8, 10, 12, 14, 16, 18])"
      ]
     },
     "execution_count": 82,
     "metadata": {},
     "output_type": "execute_result"
    }
   ],
   "source": [
    "# Sequence of numbers\n",
    "np.arange(0,20,2)"
   ]
  },
  {
   "cell_type": "code",
   "execution_count": 99,
   "id": "6cddfe33-ab54-482e-9070-e83642433e8d",
   "metadata": {},
   "outputs": [
    {
     "data": {
      "text/plain": [
       "array([0.  , 0.25, 0.5 , 0.75, 1.  ])"
      ]
     },
     "execution_count": 99,
     "metadata": {},
     "output_type": "execute_result"
    }
   ],
   "source": [
    "# Evenly spaced numbers\n",
    "np.linspace(0,1,5)"
   ]
  },
  {
   "cell_type": "code",
   "execution_count": 101,
   "id": "5e899900-3865-4452-ab31-a9d383b35661",
   "metadata": {},
   "outputs": [
    {
     "data": {
      "text/plain": [
       "array([[1., 0., 0., 0., 0., 0., 0., 0., 0., 0.],\n",
       "       [0., 1., 0., 0., 0., 0., 0., 0., 0., 0.],\n",
       "       [0., 0., 1., 0., 0., 0., 0., 0., 0., 0.],\n",
       "       [0., 0., 0., 1., 0., 0., 0., 0., 0., 0.],\n",
       "       [0., 0., 0., 0., 1., 0., 0., 0., 0., 0.],\n",
       "       [0., 0., 0., 0., 0., 1., 0., 0., 0., 0.],\n",
       "       [0., 0., 0., 0., 0., 0., 1., 0., 0., 0.],\n",
       "       [0., 0., 0., 0., 0., 0., 0., 1., 0., 0.],\n",
       "       [0., 0., 0., 0., 0., 0., 0., 0., 1., 0.],\n",
       "       [0., 0., 0., 0., 0., 0., 0., 0., 0., 1.]])"
      ]
     },
     "execution_count": 101,
     "metadata": {},
     "output_type": "execute_result"
    }
   ],
   "source": [
    "# Identity Matrix\n",
    "np.eye(10)"
   ]
  },
  {
   "cell_type": "code",
   "execution_count": 111,
   "id": "f0426122-d69d-4506-9670-88b4feb60ade",
   "metadata": {},
   "outputs": [
    {
     "data": {
      "text/plain": [
       "array([[0.63890744, 0.29846274, 0.95585516],\n",
       "       [0.66375691, 0.51572643, 0.31637893],\n",
       "       [0.31748792, 0.0851742 , 0.92062777],\n",
       "       [0.30341839, 0.71529134, 0.47685843]])"
      ]
     },
     "execution_count": 111,
     "metadata": {},
     "output_type": "execute_result"
    }
   ],
   "source": [
    "# Random Values in[0,1]\n",
    "np.random.rand(4,3)"
   ]
  },
  {
   "cell_type": "markdown",
   "id": "a101d307-eec0-49c3-9e26-5bb26b8cd53c",
   "metadata": {},
   "source": [
    "## 3. Array Operations and Functions"
   ]
  },
  {
   "cell_type": "code",
   "execution_count": 140,
   "id": "eb5c5974-d5b8-499a-8b48-ee6ff25a96f6",
   "metadata": {},
   "outputs": [],
   "source": [
    "# create two arrays\n",
    "a=np.array([1,2,4])\n",
    "b=np.array([4,5,6])"
   ]
  },
  {
   "cell_type": "markdown",
   "id": "33adec3d-f9fa-49a3-88c7-0ba9daace773",
   "metadata": {},
   "source": [
    "#### Arithmet Operations"
   ]
  },
  {
   "cell_type": "code",
   "execution_count": 142,
   "id": "6f65f823-6adf-4d29-83b5-b46ba14d9dce",
   "metadata": {},
   "outputs": [
    {
     "name": "stdout",
     "output_type": "stream",
     "text": [
      "addition [ 5  7 10]\n",
      "Subtraction [3 3 2]\n",
      "Multiplication [ 4 10 24]\n",
      "Division [0.25       0.4        0.66666667]\n"
     ]
    }
   ],
   "source": [
    "print(\"addition\",a+b)\n",
    "print(\"Subtraction\",b-a)\n",
    "print(\"Multiplication\",a*b)\n",
    "print(\"Division\",a/b)"
   ]
  },
  {
   "cell_type": "code",
   "execution_count": 149,
   "id": "bd9aaf98-c9e3-4bbd-8715-35b6eacd2ec7",
   "metadata": {},
   "outputs": [],
   "source": [
    "array1=np.array([[1,2,3],[4,5,6]])"
   ]
  },
  {
   "cell_type": "markdown",
   "id": "b42c63c7-8d3d-401d-9e45-4dd490afcbab",
   "metadata": {},
   "source": [
    "#### Aggregate Functions"
   ]
  },
  {
   "cell_type": "code",
   "execution_count": 158,
   "id": "ff9429af-8e1d-4d1f-8354-251cdbb3c0a7",
   "metadata": {},
   "outputs": [
    {
     "name": "stdout",
     "output_type": "stream",
     "text": [
      "21\n",
      "3.5\n",
      "6\n",
      "1\n"
     ]
    }
   ],
   "source": [
    "print(array1.sum())\n",
    "print(array1.mean())\n",
    "print(array1.max())\n",
    "print(array1.min())"
   ]
  },
  {
   "cell_type": "code",
   "execution_count": 211,
   "id": "2bd76059-5aa2-4da7-871d-7137bc1cb3ca",
   "metadata": {},
   "outputs": [
    {
     "data": {
      "text/plain": [
       "array([ 1,  4,  9, 16])"
      ]
     },
     "execution_count": 211,
     "metadata": {},
     "output_type": "execute_result"
    }
   ],
   "source": [
    "array2=np.array([1,4,9,16])\n",
    "array2"
   ]
  },
  {
   "cell_type": "markdown",
   "id": "70f86e02-f7fe-4da5-8e6c-bfbbcc7fba8e",
   "metadata": {},
   "source": [
    "#### Mathematical Functions"
   ]
  },
  {
   "cell_type": "code",
   "execution_count": 180,
   "id": "f3ad9b6c-fdd9-4ae3-a95c-3e560a5463c8",
   "metadata": {},
   "outputs": [
    {
     "data": {
      "text/plain": [
       "array([1., 2., 3., 4.])"
      ]
     },
     "execution_count": 180,
     "metadata": {},
     "output_type": "execute_result"
    }
   ],
   "source": [
    "np.sqrt(array2)"
   ]
  },
  {
   "cell_type": "code",
   "execution_count": 182,
   "id": "76e68f36-e484-4695-b296-c3c7724259f7",
   "metadata": {},
   "outputs": [
    {
     "data": {
      "text/plain": [
       "array([2.71828183e+00, 5.45981500e+01, 8.10308393e+03, 8.88611052e+06])"
      ]
     },
     "execution_count": 182,
     "metadata": {},
     "output_type": "execute_result"
    }
   ],
   "source": [
    "np.exp(array2)"
   ]
  },
  {
   "cell_type": "code",
   "execution_count": 184,
   "id": "973c48a0-6e22-4487-a0e9-d18ca8946e40",
   "metadata": {},
   "outputs": [
    {
     "data": {
      "text/plain": [
       "array([0.        , 1.38629436, 2.19722458, 2.77258872])"
      ]
     },
     "execution_count": 184,
     "metadata": {},
     "output_type": "execute_result"
    }
   ],
   "source": [
    "np.log(array2)"
   ]
  },
  {
   "cell_type": "code",
   "execution_count": 214,
   "id": "f1fbec45-afaa-45ca-b769-51a5caca7f52",
   "metadata": {},
   "outputs": [
    {
     "data": {
      "text/plain": [
       "array([[1, 2],\n",
       "       [3, 4],\n",
       "       [5, 6]])"
      ]
     },
     "execution_count": 214,
     "metadata": {},
     "output_type": "execute_result"
    }
   ],
   "source": [
    "array3=np.array([[1,2],[3,4],[5,6]])\n",
    "array3"
   ]
  },
  {
   "cell_type": "markdown",
   "id": "bfc9df17-7599-42b6-b20c-bf20b9c7563b",
   "metadata": {},
   "source": [
    "#### Reshaping Arrays"
   ]
  },
  {
   "cell_type": "code",
   "execution_count": 209,
   "id": "52fc0bf5-3092-4e74-a8af-3a60eb7b1e7b",
   "metadata": {},
   "outputs": [
    {
     "data": {
      "text/plain": [
       "array([[1, 2, 3],\n",
       "       [4, 5, 6]])"
      ]
     },
     "execution_count": 209,
     "metadata": {},
     "output_type": "execute_result"
    }
   ],
   "source": [
    "array3.reshape(2,3)"
   ]
  },
  {
   "cell_type": "code",
   "execution_count": 217,
   "id": "b1d4a03f-6001-40f7-aaf9-4ce51bd4096a",
   "metadata": {},
   "outputs": [
    {
     "data": {
      "text/plain": [
       "array([1, 2, 3, 4, 5, 6])"
      ]
     },
     "execution_count": 217,
     "metadata": {},
     "output_type": "execute_result"
    }
   ],
   "source": [
    "array3.flatten()"
   ]
  },
  {
   "cell_type": "code",
   "execution_count": 219,
   "id": "bcf59d48-57d6-42d4-8dcf-ecfbb2c87803",
   "metadata": {},
   "outputs": [
    {
     "data": {
      "text/plain": [
       "array([1, 2, 3, 4, 5, 6])"
      ]
     },
     "execution_count": 219,
     "metadata": {},
     "output_type": "execute_result"
    }
   ],
   "source": [
    "array3.ravel()"
   ]
  },
  {
   "cell_type": "markdown",
   "id": "ea1e66bf-c202-47c5-92c9-d2b9121a2616",
   "metadata": {},
   "source": [
    "## 4. Matrix Operations"
   ]
  },
  {
   "cell_type": "code",
   "execution_count": 224,
   "id": "96424744-e90b-4df8-a281-90b87bcafe41",
   "metadata": {},
   "outputs": [],
   "source": [
    "x=np.array([[1,2],[4,5]])\n",
    "y=np.array([[5,6],[7,8]])"
   ]
  },
  {
   "cell_type": "code",
   "execution_count": 226,
   "id": "f1cd1a68-04d1-4341-8c40-466054d0af9d",
   "metadata": {},
   "outputs": [
    {
     "data": {
      "text/plain": [
       "array([[19, 22],\n",
       "       [55, 64]])"
      ]
     },
     "execution_count": 226,
     "metadata": {},
     "output_type": "execute_result"
    }
   ],
   "source": [
    "#Dot Product\n",
    "np.dot(x,y)"
   ]
  },
  {
   "cell_type": "code",
   "execution_count": 228,
   "id": "7bc4c0b8-33fd-4397-a2b5-d00227f0604f",
   "metadata": {},
   "outputs": [
    {
     "name": "stdout",
     "output_type": "stream",
     "text": [
      "[[1 3]\n",
      " [2 4]]\n"
     ]
    }
   ],
   "source": [
    "# Transpose\n",
    "a=np.array([[1,2],[3,4]])\n",
    "Transpose=a.T\n",
    "print(Transpose)"
   ]
  },
  {
   "cell_type": "markdown",
   "id": "3415cb8f-ac82-471b-afe1-1d025fb1b873",
   "metadata": {},
   "source": [
    "## 5. Indexing"
   ]
  },
  {
   "cell_type": "code",
   "execution_count": 233,
   "id": "936f3b91-fe71-4d3e-a918-0cbd35ce6e3b",
   "metadata": {},
   "outputs": [
    {
     "name": "stdout",
     "output_type": "stream",
     "text": [
      "20\n",
      "20\n"
     ]
    }
   ],
   "source": [
    "import numpy as np\n",
    "a=np.array([[10,20],\n",
    "              [30,40]])\n",
    "print(a[0][1])    \n",
    "print(a[0,1])    "
   ]
  },
  {
   "cell_type": "code",
   "execution_count": 235,
   "id": "4ddf2190-8ea6-4dce-9566-537c7e4fd2e0",
   "metadata": {},
   "outputs": [
    {
     "name": "stdout",
     "output_type": "stream",
     "text": [
      "[7 9]\n"
     ]
    }
   ],
   "source": [
    "# Boolean Indexing\n",
    "a=np.array([1,4,7,9])\n",
    "print(a[a>5])  "
   ]
  },
  {
   "cell_type": "markdown",
   "id": "d8f3d9dc-9fac-44e5-921f-238ebce52483",
   "metadata": {},
   "source": [
    "## 6. Slicing"
   ]
  },
  {
   "cell_type": "code",
   "execution_count": 241,
   "id": "0a6ac856-be14-4ac9-8a57-b3702b246b8b",
   "metadata": {},
   "outputs": [
    {
     "name": "stdout",
     "output_type": "stream",
     "text": [
      "[4 7 9]\n",
      "[1 4 7]\n",
      "[7 9]\n"
     ]
    }
   ],
   "source": [
    "\n",
    "arr=np.array([10,20,30,40,50])\n",
    "print(a[1:4])    \n",
    "print(a[:3])     \n",
    "print(a[2:])     "
   ]
  },
  {
   "cell_type": "code",
   "execution_count": 245,
   "id": "6810fabd-5353-47c7-aff6-f8e185baf97a",
   "metadata": {},
   "outputs": [
    {
     "name": "stdout",
     "output_type": "stream",
     "text": [
      "[[1 2]\n",
      " [4 5]]\n"
     ]
    }
   ],
   "source": [
    "ar=np.array([[ 1,2,3],\n",
    "              [ 4,5,6],\n",
    "              [ 7,8,9]])\n",
    "print(ar[0:2, 0:2])"
   ]
  },
  {
   "cell_type": "code",
   "execution_count": 249,
   "id": "6a443440-703b-4ae8-91eb-ead2bcf3e26d",
   "metadata": {},
   "outputs": [
    {
     "name": "stdout",
     "output_type": "stream",
     "text": [
      "[7 8 9]\n",
      "[3 6 9]\n",
      "[[5 6]\n",
      " [8 9]]\n"
     ]
    }
   ],
   "source": [
    "print(ar[-1])\n",
    "print(ar[:,-1])     \n",
    "print(ar[-2:,-2:])  "
   ]
  },
  {
   "cell_type": "code",
   "execution_count": null,
   "id": "efd55b80-af03-4dce-ad11-9bc95b61b71d",
   "metadata": {},
   "outputs": [],
   "source": []
  }
 ],
 "metadata": {
  "kernelspec": {
   "display_name": "Python [conda env:base] *",
   "language": "python",
   "name": "conda-base-py"
  },
  "language_info": {
   "codemirror_mode": {
    "name": "ipython",
    "version": 3
   },
   "file_extension": ".py",
   "mimetype": "text/x-python",
   "name": "python",
   "nbconvert_exporter": "python",
   "pygments_lexer": "ipython3",
   "version": "3.12.3"
  }
 },
 "nbformat": 4,
 "nbformat_minor": 5
}
