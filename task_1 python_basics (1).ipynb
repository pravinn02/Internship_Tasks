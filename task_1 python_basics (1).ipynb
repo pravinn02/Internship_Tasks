{
 "cells": [
  {
   "cell_type": "markdown",
   "id": "17d723df-8120-4e31-b76f-9d8e3c25652f",
   "metadata": {},
   "source": [
    "## Variable declaration"
   ]
  },
  {
   "cell_type": "code",
   "execution_count": 2,
   "id": "2faf32f2-5359-45dc-86c7-8f9db583bf73",
   "metadata": {},
   "outputs": [],
   "source": [
    "var=21"
   ]
  },
  {
   "cell_type": "code",
   "execution_count": 4,
   "id": "b52a47c5-0f8a-41d8-82b0-e5eac97ec25d",
   "metadata": {},
   "outputs": [
    {
     "data": {
      "text/plain": [
       "21"
      ]
     },
     "execution_count": 4,
     "metadata": {},
     "output_type": "execute_result"
    }
   ],
   "source": [
    "var"
   ]
  },
  {
   "cell_type": "code",
   "execution_count": 133,
   "id": "c277872c-c54c-4468-925b-3a6e9ea8ec06",
   "metadata": {},
   "outputs": [],
   "source": [
    "var_1=\"Aniket\""
   ]
  },
  {
   "cell_type": "code",
   "execution_count": 135,
   "id": "8d37efea-8f59-4d92-8859-d0c35a57c219",
   "metadata": {},
   "outputs": [
    {
     "data": {
      "text/plain": [
       "'Aniket'"
      ]
     },
     "execution_count": 135,
     "metadata": {},
     "output_type": "execute_result"
    }
   ],
   "source": [
    "var_1"
   ]
  },
  {
   "cell_type": "code",
   "execution_count": 216,
   "id": "50d3766e-2e23-4c3d-a715-5b76ff67ef9b",
   "metadata": {
    "scrolled": true
   },
   "outputs": [],
   "source": [
    "ani=21"
   ]
  },
  {
   "cell_type": "code",
   "execution_count": 218,
   "id": "97459991-bfa1-4cab-bb22-1b45d9995e49",
   "metadata": {},
   "outputs": [
    {
     "data": {
      "text/plain": [
       "21"
      ]
     },
     "execution_count": 218,
     "metadata": {},
     "output_type": "execute_result"
    }
   ],
   "source": [
    "ani"
   ]
  },
  {
   "cell_type": "code",
   "execution_count": 220,
   "id": "53805cb4-a69c-4da1-9fb9-e27f3aa2e0eb",
   "metadata": {},
   "outputs": [],
   "source": [
    "_var=21"
   ]
  },
  {
   "cell_type": "code",
   "execution_count": 222,
   "id": "a0b7721b-3d92-4594-ae74-8cbbb2f243c1",
   "metadata": {},
   "outputs": [
    {
     "data": {
      "text/plain": [
       "21"
      ]
     },
     "execution_count": 222,
     "metadata": {},
     "output_type": "execute_result"
    }
   ],
   "source": [
    "_var"
   ]
  },
  {
   "cell_type": "markdown",
   "id": "2439edcf-f22e-449b-8f81-2e5ccedecbdc",
   "metadata": {},
   "source": [
    "## Arithmetic operators"
   ]
  },
  {
   "cell_type": "code",
   "execution_count": 146,
   "id": "46ba9429-5617-4abc-8181-24332d61da4b",
   "metadata": {},
   "outputs": [],
   "source": [
    "a=20\n",
    "b=2"
   ]
  },
  {
   "cell_type": "markdown",
   "id": "943b4981-7d10-4b5c-8ab3-c428796e6b6e",
   "metadata": {},
   "source": [
    "Addition"
   ]
  },
  {
   "cell_type": "code",
   "execution_count": 149,
   "id": "701aecb9-bd92-4bb6-bf22-7ed7bdcdb537",
   "metadata": {},
   "outputs": [
    {
     "name": "stdout",
     "output_type": "stream",
     "text": [
      "22\n"
     ]
    }
   ],
   "source": [
    "print(a+b)"
   ]
  },
  {
   "cell_type": "markdown",
   "id": "56c7ca61-0b88-4465-af71-28478664e4a6",
   "metadata": {},
   "source": [
    "Subtraction"
   ]
  },
  {
   "cell_type": "code",
   "execution_count": 152,
   "id": "9981bd2f-70d9-450c-9268-624629c41ec9",
   "metadata": {},
   "outputs": [
    {
     "name": "stdout",
     "output_type": "stream",
     "text": [
      "18\n"
     ]
    }
   ],
   "source": [
    "print(a-b)"
   ]
  },
  {
   "cell_type": "markdown",
   "id": "1075f116-61c2-4b71-8a2e-6452dbdfa000",
   "metadata": {},
   "source": [
    "Multiplication"
   ]
  },
  {
   "cell_type": "code",
   "execution_count": 155,
   "id": "01a0f70a-b35f-41dc-9546-c15b816ae202",
   "metadata": {},
   "outputs": [
    {
     "name": "stdout",
     "output_type": "stream",
     "text": [
      "40\n"
     ]
    }
   ],
   "source": [
    "print(a*b)"
   ]
  },
  {
   "cell_type": "markdown",
   "id": "5d620a04-9ef3-48a3-9dbe-dd4bf9de0bc6",
   "metadata": {},
   "source": [
    "Division"
   ]
  },
  {
   "cell_type": "code",
   "execution_count": 158,
   "id": "c185a601-e085-49d4-8622-f50af9354fa5",
   "metadata": {},
   "outputs": [
    {
     "name": "stdout",
     "output_type": "stream",
     "text": [
      "10.0\n"
     ]
    }
   ],
   "source": [
    "print(a/b)"
   ]
  },
  {
   "cell_type": "code",
   "execution_count": 160,
   "id": "8a8b0108-9f25-4f72-bf17-92bd677c5a8b",
   "metadata": {},
   "outputs": [
    {
     "name": "stdout",
     "output_type": "stream",
     "text": [
      "0\n"
     ]
    }
   ],
   "source": [
    "print(a%b) #modulus division"
   ]
  },
  {
   "cell_type": "markdown",
   "id": "deb38318-bd26-47f6-a4d2-01fe637015b9",
   "metadata": {},
   "source": [
    "Exponential # (a^b)"
   ]
  },
  {
   "cell_type": "code",
   "execution_count": 163,
   "id": "2d2ccc21-d07c-4abf-aa4e-b5796ee7b0d1",
   "metadata": {},
   "outputs": [
    {
     "name": "stdout",
     "output_type": "stream",
     "text": [
      "400\n"
     ]
    }
   ],
   "source": [
    "print(a**b)"
   ]
  },
  {
   "cell_type": "markdown",
   "id": "074a55ff-508d-47bc-a3d3-8680570d0c7f",
   "metadata": {},
   "source": [
    "## Comparison operators"
   ]
  },
  {
   "cell_type": "code",
   "execution_count": 227,
   "id": "76cfb5c3-2067-45d8-bcad-4063473fcb2d",
   "metadata": {},
   "outputs": [
    {
     "name": "stdout",
     "output_type": "stream",
     "text": [
      "False\n"
     ]
    }
   ],
   "source": [
    "print(a == b)  "
   ]
  },
  {
   "cell_type": "code",
   "execution_count": 229,
   "id": "014f8ce4-7e19-4cf8-97d6-9d3c451bf9f5",
   "metadata": {},
   "outputs": [
    {
     "name": "stdout",
     "output_type": "stream",
     "text": [
      "True\n"
     ]
    }
   ],
   "source": [
    "print(a != b) "
   ]
  },
  {
   "cell_type": "code",
   "execution_count": 231,
   "id": "7196f5ea-049b-4a58-bfb2-47c9c2d6c804",
   "metadata": {},
   "outputs": [
    {
     "name": "stdout",
     "output_type": "stream",
     "text": [
      "False\n"
     ]
    }
   ],
   "source": [
    "print(a > b)  "
   ]
  },
  {
   "cell_type": "code",
   "execution_count": 233,
   "id": "53d3061b-509d-4206-b55b-61ee402480a3",
   "metadata": {},
   "outputs": [
    {
     "name": "stdout",
     "output_type": "stream",
     "text": [
      "True\n"
     ]
    }
   ],
   "source": [
    "print(a < b)   "
   ]
  },
  {
   "cell_type": "code",
   "execution_count": 235,
   "id": "179f99cb-355c-41e0-b108-c62de5abcd78",
   "metadata": {},
   "outputs": [
    {
     "name": "stdout",
     "output_type": "stream",
     "text": [
      "True\n"
     ]
    }
   ],
   "source": [
    "print(a <= b) "
   ]
  },
  {
   "cell_type": "code",
   "execution_count": 237,
   "id": "06fec030-ebe7-4d77-8f12-7756ba87d812",
   "metadata": {},
   "outputs": [
    {
     "name": "stdout",
     "output_type": "stream",
     "text": [
      "False\n"
     ]
    }
   ],
   "source": [
    "print(a >= b) "
   ]
  },
  {
   "cell_type": "markdown",
   "id": "0a4f34cb-ef96-4484-86a4-635fb9a3a454",
   "metadata": {},
   "source": [
    "Logical operators"
   ]
  },
  {
   "cell_type": "code",
   "execution_count": 240,
   "id": "a4fa15f9-6f0c-4a7c-a8ca-70da31f9f713",
   "metadata": {},
   "outputs": [
    {
     "name": "stdout",
     "output_type": "stream",
     "text": [
      "True\n"
     ]
    }
   ],
   "source": [
    "print(a>0 and b>0)    "
   ]
  },
  {
   "cell_type": "code",
   "execution_count": 242,
   "id": "75fd7f14-946b-44b9-9394-8d56d126e69e",
   "metadata": {},
   "outputs": [
    {
     "name": "stdout",
     "output_type": "stream",
     "text": [
      "False\n"
     ]
    }
   ],
   "source": [
    "print(a>0 and b<0)    \n",
    "      "
   ]
  },
  {
   "cell_type": "code",
   "execution_count": 244,
   "id": "fc4b1d3e-9a75-43e8-9fe2-6b4729306a43",
   "metadata": {},
   "outputs": [
    {
     "name": "stdout",
     "output_type": "stream",
     "text": [
      "True\n"
     ]
    }
   ],
   "source": [
    "print(a>0 or b<0)     \n",
    " "
   ]
  },
  {
   "cell_type": "code",
   "execution_count": 246,
   "id": "535c8952-ddba-438e-b14a-2e4d23c3787f",
   "metadata": {},
   "outputs": [
    {
     "name": "stdout",
     "output_type": "stream",
     "text": [
      "False\n"
     ]
    }
   ],
   "source": [
    "print(not(a>0)) "
   ]
  },
  {
   "cell_type": "markdown",
   "id": "93e9a8bb-88db-4203-829b-dcd80a52681e",
   "metadata": {},
   "source": [
    "## Assignment Operators"
   ]
  },
  {
   "cell_type": "code",
   "execution_count": 249,
   "id": "cd99571d-b9b0-4349-9db6-4b34087073e2",
   "metadata": {},
   "outputs": [],
   "source": [
    "a=10        \n",
    "    "
   ]
  },
  {
   "cell_type": "code",
   "execution_count": 251,
   "id": "b366b82b-01cd-4d7f-86bf-05a7939cc7a5",
   "metadata": {},
   "outputs": [
    {
     "data": {
      "text/plain": [
       "9"
      ]
     },
     "execution_count": 251,
     "metadata": {},
     "output_type": "execute_result"
    }
   ],
   "source": [
    "a-=1 \n",
    "a      \n"
   ]
  },
  {
   "cell_type": "code",
   "execution_count": 253,
   "id": "5c26510f-a28c-4c92-9538-8384607a8532",
   "metadata": {},
   "outputs": [
    {
     "data": {
      "text/plain": [
       "27"
      ]
     },
     "execution_count": 253,
     "metadata": {},
     "output_type": "execute_result"
    }
   ],
   "source": [
    "a*=3 \n",
    "a      \n",
    " "
   ]
  },
  {
   "cell_type": "code",
   "execution_count": 255,
   "id": "343da6b1-7d43-4548-a797-6cebef83aa3f",
   "metadata": {},
   "outputs": [
    {
     "data": {
      "text/plain": [
       "4.5"
      ]
     },
     "execution_count": 255,
     "metadata": {},
     "output_type": "execute_result"
    }
   ],
   "source": [
    "a/=6 ;a"
   ]
  },
  {
   "cell_type": "code",
   "execution_count": 257,
   "id": "4199fe22-c15c-48b1-b8b6-2f1a593472a6",
   "metadata": {},
   "outputs": [
    {
     "data": {
      "text/plain": [
       "0.5"
      ]
     },
     "execution_count": 257,
     "metadata": {},
     "output_type": "execute_result"
    }
   ],
   "source": [
    "a%=2 ;a     \n"
   ]
  },
  {
   "cell_type": "code",
   "execution_count": 259,
   "id": "35856fba-2d7e-47ca-a0c6-0ea387a24a20",
   "metadata": {},
   "outputs": [
    {
     "data": {
      "text/plain": [
       "0.0625"
      ]
     },
     "execution_count": 259,
     "metadata": {},
     "output_type": "execute_result"
    }
   ],
   "source": [
    "a**=4 ;a"
   ]
  },
  {
   "cell_type": "markdown",
   "id": "182dd8df-00cf-434e-878b-e8a47a64e8a4",
   "metadata": {},
   "source": [
    "Membership Operators"
   ]
  },
  {
   "cell_type": "code",
   "execution_count": 201,
   "id": "8b29354b-e66b-446d-9748-65545cc0592e",
   "metadata": {},
   "outputs": [
    {
     "name": "stdout",
     "output_type": "stream",
     "text": [
      "True\n"
     ]
    }
   ],
   "source": [
    "print('s' in 'Sakshi')\n"
   ]
  },
  {
   "cell_type": "code",
   "execution_count": 203,
   "id": "a501dd97-4d12-4515-b3c7-0f5f2e967532",
   "metadata": {},
   "outputs": [
    {
     "name": "stdout",
     "output_type": "stream",
     "text": [
      "True\n"
     ]
    }
   ],
   "source": [
    "print('R' not in 'sakshi') "
   ]
  },
  {
   "cell_type": "code",
   "execution_count": 205,
   "id": "4fe58da5-396a-4245-9fb8-6f4d2007c26c",
   "metadata": {},
   "outputs": [],
   "source": [
    "s=(10,20,30,40,50)"
   ]
  },
  {
   "cell_type": "code",
   "execution_count": 207,
   "id": "a46c775f-a19e-4ac0-8d0f-b1fbded6b5e6",
   "metadata": {},
   "outputs": [
    {
     "data": {
      "text/plain": [
       "(10, 20, 30, 40, 50)"
      ]
     },
     "execution_count": 207,
     "metadata": {},
     "output_type": "execute_result"
    }
   ],
   "source": [
    "s"
   ]
  },
  {
   "cell_type": "code",
   "execution_count": 209,
   "id": "f9d210b2-0bf7-4964-8475-50d9a21739e6",
   "metadata": {},
   "outputs": [
    {
     "name": "stdout",
     "output_type": "stream",
     "text": [
      "False\n"
     ]
    }
   ],
   "source": [
    "print('15' in 's')"
   ]
  },
  {
   "cell_type": "code",
   "execution_count": null,
   "id": "d76716d5-3a0e-4f53-8c33-6bd1ba576c6b",
   "metadata": {},
   "outputs": [],
   "source": []
  },
  {
   "cell_type": "code",
   "execution_count": null,
   "id": "9aad6529-1d48-446e-ba86-f159a9eb0e43",
   "metadata": {},
   "outputs": [],
   "source": []
  },
  {
   "cell_type": "code",
   "execution_count": null,
   "id": "8cb3321e-87ed-4f6b-b622-bc20b760018a",
   "metadata": {},
   "outputs": [],
   "source": []
  },
  {
   "cell_type": "code",
   "execution_count": null,
   "id": "fe7c90ae-bf51-4184-a4cf-3e18e390bb79",
   "metadata": {},
   "outputs": [],
   "source": []
  },
  {
   "cell_type": "code",
   "execution_count": null,
   "id": "485bd537-b25b-462f-b97b-5b6738f412a9",
   "metadata": {},
   "outputs": [],
   "source": []
  },
  {
   "cell_type": "code",
   "execution_count": null,
   "id": "6a499a1b-5ea4-4784-a7e3-feafc659f3b9",
   "metadata": {},
   "outputs": [],
   "source": []
  },
  {
   "cell_type": "code",
   "execution_count": null,
   "id": "22f61a60-4b2d-4666-893c-dda20e9fa88a",
   "metadata": {},
   "outputs": [],
   "source": []
  },
  {
   "cell_type": "code",
   "execution_count": null,
   "id": "51ac6ce6-e136-43a3-b3db-371cdb6f155c",
   "metadata": {},
   "outputs": [],
   "source": []
  },
  {
   "cell_type": "code",
   "execution_count": null,
   "id": "24f7c76f-59bb-4bfd-954e-5f73008a540c",
   "metadata": {},
   "outputs": [],
   "source": []
  },
  {
   "cell_type": "code",
   "execution_count": null,
   "id": "8a83fe2c-7055-434a-83ef-88b3838359fa",
   "metadata": {},
   "outputs": [],
   "source": []
  },
  {
   "cell_type": "code",
   "execution_count": null,
   "id": "13874872-5f30-439b-9979-0f059380e001",
   "metadata": {},
   "outputs": [],
   "source": []
  },
  {
   "cell_type": "code",
   "execution_count": null,
   "id": "33421c38-e9de-4617-a76d-2eb49800817e",
   "metadata": {},
   "outputs": [],
   "source": []
  },
  {
   "cell_type": "code",
   "execution_count": null,
   "id": "bb2de775-531d-4f72-a44e-bb90cad86dd2",
   "metadata": {},
   "outputs": [],
   "source": []
  },
  {
   "cell_type": "code",
   "execution_count": null,
   "id": "b1c46478-4096-4122-9d24-085313e36595",
   "metadata": {},
   "outputs": [],
   "source": []
  },
  {
   "cell_type": "code",
   "execution_count": null,
   "id": "3cf07d35-43f5-4ad6-850e-118559f0536d",
   "metadata": {},
   "outputs": [],
   "source": []
  },
  {
   "cell_type": "code",
   "execution_count": null,
   "id": "5f9c9298-a163-46de-ac07-a96fdf68fdd6",
   "metadata": {},
   "outputs": [],
   "source": []
  },
  {
   "cell_type": "code",
   "execution_count": null,
   "id": "ae75939c-f17a-41df-9303-cfd9cc6d4e18",
   "metadata": {},
   "outputs": [],
   "source": []
  },
  {
   "cell_type": "code",
   "execution_count": null,
   "id": "58378b8f-ec1b-4da8-9cab-690a3930e332",
   "metadata": {},
   "outputs": [],
   "source": []
  },
  {
   "cell_type": "code",
   "execution_count": null,
   "id": "f10fb73e-9578-4729-ab11-1b157e6beb87",
   "metadata": {},
   "outputs": [],
   "source": []
  },
  {
   "cell_type": "code",
   "execution_count": null,
   "id": "78275a4a-fbb4-43c5-92da-eb2548b6a0be",
   "metadata": {},
   "outputs": [],
   "source": []
  },
  {
   "cell_type": "code",
   "execution_count": null,
   "id": "da4d8b5e-2b09-47b3-89a7-dc53877e4976",
   "metadata": {},
   "outputs": [],
   "source": []
  },
  {
   "cell_type": "code",
   "execution_count": null,
   "id": "ae1fdb62-24bf-4bc1-99b1-73dc15fb0d44",
   "metadata": {},
   "outputs": [],
   "source": []
  },
  {
   "cell_type": "code",
   "execution_count": null,
   "id": "dce3c12a-64c9-451e-b903-a794eee91666",
   "metadata": {},
   "outputs": [],
   "source": []
  },
  {
   "cell_type": "code",
   "execution_count": null,
   "id": "b84965c2-25f0-43b3-b2b5-0dc3b957f357",
   "metadata": {},
   "outputs": [],
   "source": []
  },
  {
   "cell_type": "code",
   "execution_count": null,
   "id": "e23685e5-c45c-40d5-9318-064ab393072f",
   "metadata": {},
   "outputs": [],
   "source": []
  },
  {
   "cell_type": "code",
   "execution_count": null,
   "id": "5a5f4458-b3d5-43b6-8a33-ed824f62791e",
   "metadata": {},
   "outputs": [],
   "source": []
  },
  {
   "cell_type": "code",
   "execution_count": null,
   "id": "ed761230-4526-4aab-b270-46f317cd25a5",
   "metadata": {},
   "outputs": [],
   "source": []
  },
  {
   "cell_type": "code",
   "execution_count": null,
   "id": "77b24e74-2c51-452a-8baf-803c2cad3c1d",
   "metadata": {},
   "outputs": [],
   "source": []
  },
  {
   "cell_type": "code",
   "execution_count": null,
   "id": "6ec21778-f5ee-49dc-a114-c745aa0d51f7",
   "metadata": {},
   "outputs": [],
   "source": []
  },
  {
   "cell_type": "code",
   "execution_count": null,
   "id": "919912d4-4011-4da0-a7c0-b7e3041dd772",
   "metadata": {},
   "outputs": [],
   "source": []
  },
  {
   "cell_type": "code",
   "execution_count": null,
   "id": "092cf737-1285-4100-a2c6-7565138fd0ab",
   "metadata": {},
   "outputs": [],
   "source": []
  },
  {
   "cell_type": "code",
   "execution_count": null,
   "id": "ec124891-c94f-43e6-91c9-da2ac22056cf",
   "metadata": {},
   "outputs": [],
   "source": []
  },
  {
   "cell_type": "code",
   "execution_count": null,
   "id": "44839fd2-8312-4c5d-b2e9-b306c19a32e2",
   "metadata": {},
   "outputs": [],
   "source": []
  },
  {
   "cell_type": "code",
   "execution_count": null,
   "id": "882090da-d710-4ff4-94e5-c51fa80b8cab",
   "metadata": {},
   "outputs": [],
   "source": []
  },
  {
   "cell_type": "code",
   "execution_count": null,
   "id": "8724f5ae-d5cb-46c0-adf3-37e1eb2c0f08",
   "metadata": {},
   "outputs": [],
   "source": []
  },
  {
   "cell_type": "code",
   "execution_count": null,
   "id": "b759cf26-2ae5-4711-a36a-a448733bc9ee",
   "metadata": {},
   "outputs": [],
   "source": []
  },
  {
   "cell_type": "code",
   "execution_count": null,
   "id": "c4597613-6794-4da9-acf5-a121096f6a20",
   "metadata": {},
   "outputs": [],
   "source": []
  },
  {
   "cell_type": "code",
   "execution_count": null,
   "id": "8a14608b-cac8-4aed-b540-976556fbac9a",
   "metadata": {},
   "outputs": [],
   "source": []
  },
  {
   "cell_type": "code",
   "execution_count": null,
   "id": "ba391d45-bf24-4410-93f7-6030d4525b17",
   "metadata": {},
   "outputs": [],
   "source": []
  },
  {
   "cell_type": "code",
   "execution_count": null,
   "id": "62390d36-fc76-4510-8822-8438a303929f",
   "metadata": {},
   "outputs": [],
   "source": []
  },
  {
   "cell_type": "code",
   "execution_count": null,
   "id": "62d89326-139e-4839-b940-7560e5c2c929",
   "metadata": {},
   "outputs": [],
   "source": []
  },
  {
   "cell_type": "code",
   "execution_count": null,
   "id": "7f12b999-9074-4ca9-a973-6f8bdc217c0e",
   "metadata": {},
   "outputs": [],
   "source": []
  },
  {
   "cell_type": "code",
   "execution_count": null,
   "id": "54cb0197-df10-4bac-bdfb-f8ac3a84a51e",
   "metadata": {},
   "outputs": [],
   "source": []
  },
  {
   "cell_type": "code",
   "execution_count": null,
   "id": "d358c9dc-3a71-4eae-bf7e-d551eb4cfe9b",
   "metadata": {},
   "outputs": [],
   "source": []
  },
  {
   "cell_type": "code",
   "execution_count": null,
   "id": "1e48b3f6-c8d1-4f0a-837f-1e614547d3a8",
   "metadata": {},
   "outputs": [],
   "source": []
  },
  {
   "cell_type": "code",
   "execution_count": null,
   "id": "5904975e-a666-4455-a80e-a0d4824dc8d4",
   "metadata": {},
   "outputs": [],
   "source": []
  },
  {
   "cell_type": "code",
   "execution_count": null,
   "id": "df516f20-81d0-47d8-b363-b92531886147",
   "metadata": {},
   "outputs": [],
   "source": []
  }
 ],
 "metadata": {
  "kernelspec": {
   "display_name": "Python [conda env:base] *",
   "language": "python",
   "name": "conda-base-py"
  },
  "language_info": {
   "codemirror_mode": {
    "name": "ipython",
    "version": 3
   },
   "file_extension": ".py",
   "mimetype": "text/x-python",
   "name": "python",
   "nbconvert_exporter": "python",
   "pygments_lexer": "ipython3",
   "version": "3.12.3"
  }
 },
 "nbformat": 4,
 "nbformat_minor": 5
}
