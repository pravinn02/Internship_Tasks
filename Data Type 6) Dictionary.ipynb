{
 "cells": [
  {
   "cell_type": "markdown",
   "id": "bab7fb59-902f-491f-bbd5-f16da585b7e7",
   "metadata": {},
   "source": [
    "## Data Types- Key Concepts and Methods"
   ]
  },
  {
   "cell_type": "markdown",
   "id": "286cbad3-fdf4-448f-9ce3-e20062e38ecb",
   "metadata": {},
   "source": [
    "### Dictionary"
   ]
  },
  {
   "cell_type": "markdown",
   "id": "c10bd38d-668c-45ce-a327-9f6983d69542",
   "metadata": {},
   "source": [
    "#### Definition: \n",
    "A dictionary is an unordered, mutable collection of key-value pairs enclosed in curly braces {}."
   ]
  },
  {
   "cell_type": "markdown",
   "id": "6c31a9e0-edfb-4f31-a366-d5e34f889cd6",
   "metadata": {},
   "source": [
    "#### Indexing:\n",
    "\n",
    "Access values using keys (not numerical indices).\n",
    "\n",
    "Example: For {\"name\": \"Alice\", \"age\": 25}, use dict[\"name\"] to get \"Alice\"."
   ]
  },
  {
   "cell_type": "markdown",
   "id": "038abb18-d984-4a1a-9967-99bdf7509e1a",
   "metadata": {},
   "source": [
    "#### Common Methods/Functions:\n",
    "\n",
    "dict.get(key): Returns value for key (returns None if key not found).\n",
    "                            \n",
    "dict.keys(): Returns all keys.\n",
    "                            \n",
    "dict.values(): Returns all values.\n",
    "                            \n",
    "dict.items(): Returns key-value pairs.\n",
    "                            \n",
    "dict.pop(key): Removes and returns value for key.\n",
    "                                        \n",
    "len(): Returns the number of key-value pairs."
   ]
  },
  {
   "cell_type": "markdown",
   "id": "00791e26-7b0e-4a3c-8192-15dcb946adfc",
   "metadata": {},
   "source": [
    "#### Example"
   ]
  },
  {
   "cell_type": "code",
   "execution_count": 11,
   "id": "28148446-e87a-467a-b278-b505c65928de",
   "metadata": {},
   "outputs": [
    {
     "data": {
      "text/plain": [
       "{'name': 'Aniket', 'age': 25}"
      ]
     },
     "execution_count": 11,
     "metadata": {},
     "output_type": "execute_result"
    }
   ],
   "source": [
    "student = {\"name\": \"Aniket\", \"age\": 25}\n",
    "student"
   ]
  },
  {
   "cell_type": "code",
   "execution_count": 13,
   "id": "8622d5bf-debf-49c5-891a-48a893b9ba03",
   "metadata": {},
   "outputs": [
    {
     "name": "stdout",
     "output_type": "stream",
     "text": [
      "Aniket\n"
     ]
    }
   ],
   "source": [
    "print(student[\"name\"])"
   ]
  },
  {
   "cell_type": "code",
   "execution_count": 15,
   "id": "b6ea53fc-04f5-4668-b779-0576893c8881",
   "metadata": {},
   "outputs": [
    {
     "name": "stdout",
     "output_type": "stream",
     "text": [
      "25\n"
     ]
    }
   ],
   "source": [
    "print(student.get(\"age\"))  "
   ]
  },
  {
   "cell_type": "code",
   "execution_count": 17,
   "id": "e1b30256-2f4e-4931-9387-5b271e44d80f",
   "metadata": {},
   "outputs": [],
   "source": [
    "student[\"grade\"] = \"A\""
   ]
  },
  {
   "cell_type": "code",
   "execution_count": 21,
   "id": "d8cdad71-b2ea-4cf4-a454-4315b2164e63",
   "metadata": {},
   "outputs": [
    {
     "name": "stdout",
     "output_type": "stream",
     "text": [
      "{'name': 'Aniket', 'age': 25, 'grade': 'A'}\n"
     ]
    }
   ],
   "source": [
    "print(student)"
   ]
  },
  {
   "cell_type": "code",
   "execution_count": 23,
   "id": "0d3e605b-b9d2-49cb-840d-5aae2afe6574",
   "metadata": {},
   "outputs": [
    {
     "name": "stdout",
     "output_type": "stream",
     "text": [
      "dict_keys(['name', 'age', 'grade'])\n"
     ]
    }
   ],
   "source": [
    "print(student.keys())"
   ]
  },
  {
   "cell_type": "code",
   "execution_count": 25,
   "id": "856ede4f-2b60-41c3-8dd9-6ec96f3b8b5c",
   "metadata": {},
   "outputs": [
    {
     "name": "stdout",
     "output_type": "stream",
     "text": [
      "25\n"
     ]
    }
   ],
   "source": [
    "print(student.pop(\"age\"))"
   ]
  },
  {
   "cell_type": "code",
   "execution_count": 27,
   "id": "c2f5cdd7-3edb-4d5d-833d-f8f6cc850595",
   "metadata": {},
   "outputs": [
    {
     "name": "stdout",
     "output_type": "stream",
     "text": [
      "{'name': 'Aniket', 'grade': 'A'}\n"
     ]
    }
   ],
   "source": [
    "print(student) "
   ]
  },
  {
   "cell_type": "code",
   "execution_count": null,
   "id": "78216f1b-2dea-47bf-befc-0a21c0cb6eb5",
   "metadata": {},
   "outputs": [],
   "source": []
  }
 ],
 "metadata": {
  "kernelspec": {
   "display_name": "Python [conda env:base] *",
   "language": "python",
   "name": "conda-base-py"
  },
  "language_info": {
   "codemirror_mode": {
    "name": "ipython",
    "version": 3
   },
   "file_extension": ".py",
   "mimetype": "text/x-python",
   "name": "python",
   "nbconvert_exporter": "python",
   "pygments_lexer": "ipython3",
   "version": "3.12.7"
  }
 },
 "nbformat": 4,
 "nbformat_minor": 5
}
