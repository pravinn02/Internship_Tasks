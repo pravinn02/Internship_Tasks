{
 "cells": [
  {
   "cell_type": "markdown",
   "id": "64b22f32-2592-40c2-af1d-1eecdc24bd51",
   "metadata": {},
   "source": [
    "## Data Types-Key concept and Methods"
   ]
  },
  {
   "cell_type": "markdown",
   "id": "ae279493-e9b7-4469-818a-8f59478ebd1e",
   "metadata": {},
   "source": [
    "### List"
   ]
  },
  {
   "cell_type": "markdown",
   "id": "0488ffba-5f1f-4619-af67-e3390c896288",
   "metadata": {},
   "source": [
    "#### Definition: \n",
    "A list is an ordered, mutable collection of items (can store numbers, strings, etc.) enclosed in square brackets []."
   ]
  },
  {
   "cell_type": "markdown",
   "id": "98ee8888-d4a5-4632-95ca-16dadedcd7d4",
   "metadata": {},
   "source": [
    "#### Key Points:\n",
    "\n",
    "Lists are mutable (can be changed after creation).\n",
    "\n",
    "Can contain mixed data types (e.g., [1, \"hello\", 3.14]).\n",
    "\n",
    "Used to store multiple items in a single variable."
   ]
  },
  {
   "cell_type": "markdown",
   "id": "b5983220-8913-401b-b266-1d5a1c8750c8",
   "metadata": {},
   "source": [
    "#### Indexing:\n",
    "\n",
    "Indexed starting from 0 (first item).\n",
    "\n",
    "Negative indexing starts from -1 (last item).\n",
    "\n",
    "Example: For [10, 20, 30], 10 is at index 0, 30 is at index 2 or -1."
   ]
  },
  {
   "cell_type": "markdown",
   "id": "c85b4e65-09db-4d97-b87f-dc75f926777d",
   "metadata": {},
   "source": [
    "#### Common Methods/Functions:\n",
    "\n",
    "list.append(item): Adds an item to the end.\n",
    "\n",
    "list.pop(): Removes and returns the last item.\n",
    "\n",
    "list.remove(item): Removes the first occurrence of an item.\n",
    "\n",
    "list.sort(): Sorts the list in place.\n",
    "\n",
    "len(): Returns the number of items.\n",
    "\n",
    "list.extend(list2): Adds items from another list."
   ]
  },
  {
   "cell_type": "markdown",
   "id": "60852633-5449-4e6f-a67b-2e5ea4abe0e5",
   "metadata": {},
   "source": [
    "#### Example"
   ]
  },
  {
   "cell_type": "code",
   "execution_count": 16,
   "id": "532edbcb-af17-4086-ab80-72721a211304",
   "metadata": {},
   "outputs": [],
   "source": [
    "Fruits=[\"apple\",\"banana\",\"orange\"]"
   ]
  },
  {
   "cell_type": "code",
   "execution_count": 18,
   "id": "16d011bd-c767-4160-8acf-73f177d948da",
   "metadata": {},
   "outputs": [
    {
     "data": {
      "text/plain": [
       "['apple', 'banana', 'orange']"
      ]
     },
     "execution_count": 18,
     "metadata": {},
     "output_type": "execute_result"
    }
   ],
   "source": [
    "Fruits"
   ]
  },
  {
   "cell_type": "code",
   "execution_count": 20,
   "id": "f2555da9-e755-443c-8704-5f832a4bde2f",
   "metadata": {},
   "outputs": [
    {
     "data": {
      "text/plain": [
       "list"
      ]
     },
     "execution_count": 20,
     "metadata": {},
     "output_type": "execute_result"
    }
   ],
   "source": [
    "type(Fruits)"
   ]
  },
  {
   "cell_type": "code",
   "execution_count": 22,
   "id": "31d8ec8b-444d-4512-a694-669db31bc997",
   "metadata": {},
   "outputs": [],
   "source": [
    "list1 = [\"apple\", \"banana\", \"cherry\"]\n",
    "list2 = [1, 5, 7, 9, 3]\n",
    "list3 = [True, False, False]"
   ]
  },
  {
   "cell_type": "code",
   "execution_count": 24,
   "id": "b9541dd7-4fb5-499d-8f5b-93414a2554c1",
   "metadata": {},
   "outputs": [
    {
     "data": {
      "text/plain": [
       "['apple', 'banana', 'cherry']"
      ]
     },
     "execution_count": 24,
     "metadata": {},
     "output_type": "execute_result"
    }
   ],
   "source": [
    "list1"
   ]
  },
  {
   "cell_type": "code",
   "execution_count": 26,
   "id": "518e5877-8b64-4ca0-aad5-d67047c2eb5a",
   "metadata": {},
   "outputs": [
    {
     "data": {
      "text/plain": [
       "[1, 5, 7, 9, 3]"
      ]
     },
     "execution_count": 26,
     "metadata": {},
     "output_type": "execute_result"
    }
   ],
   "source": [
    "list2"
   ]
  },
  {
   "cell_type": "code",
   "execution_count": 28,
   "id": "9ac770e6-06b9-4515-8bf6-54e665aaa224",
   "metadata": {},
   "outputs": [
    {
     "data": {
      "text/plain": [
       "[True, False, False]"
      ]
     },
     "execution_count": 28,
     "metadata": {},
     "output_type": "execute_result"
    }
   ],
   "source": [
    "list3"
   ]
  },
  {
   "cell_type": "code",
   "execution_count": null,
   "id": "790730e4-8fff-4356-b283-bd24447c79f4",
   "metadata": {},
   "outputs": [],
   "source": []
  }
 ],
 "metadata": {
  "kernelspec": {
   "display_name": "Python [conda env:base] *",
   "language": "python",
   "name": "conda-base-py"
  },
  "language_info": {
   "codemirror_mode": {
    "name": "ipython",
    "version": 3
   },
   "file_extension": ".py",
   "mimetype": "text/x-python",
   "name": "python",
   "nbconvert_exporter": "python",
   "pygments_lexer": "ipython3",
   "version": "3.12.3"
  }
 },
 "nbformat": 4,
 "nbformat_minor": 5
}
